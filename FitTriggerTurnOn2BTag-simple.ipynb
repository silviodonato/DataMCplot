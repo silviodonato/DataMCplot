{
 "metadata": {
  "name": "",
  "signature": "sha256:0701c36f3ba55bbfb55dace928287844ca8e89dafc3878eff4748e9a3599f0ed"
 },
 "nbformat": 3,
 "nbformat_minor": 0,
 "worksheets": [
  {
   "cells": [
    {
     "cell_type": "code",
     "collapsed": false,
     "input": [
      "import ROOT\n",
      "ROOT.gStyle.SetOptStat(0)\n",
      "ROOT.gROOT.LoadMacro(\"functions.C\")\n",
      "'''\n",
      "HLT_BIT_HLT_PFHT450_SixJet40_v\n",
      "HLT_BIT_HLT_PFHT400_SixJet30_v\n",
      "HLT_BIT_HLT_PFHT450_SixJet40_BTagCSV_p056_v\n",
      "HLT_BIT_HLT_PFHT400_SixJet30_DoubleBTagCSV_p056_v\n",
      "'''"
     ],
     "language": "python",
     "metadata": {},
     "outputs": [
      {
       "metadata": {},
       "output_type": "pyout",
       "prompt_number": 1,
       "text": [
        "'\\nHLT_BIT_HLT_PFHT450_SixJet40_v\\nHLT_BIT_HLT_PFHT400_SixJet30_v\\nHLT_BIT_HLT_PFHT450_SixJet40_BTagCSV_p056_v\\nHLT_BIT_HLT_PFHT400_SixJet30_DoubleBTagCSV_p056_v\\n'"
       ]
      }
     ],
     "prompt_number": 1
    },
    {
     "cell_type": "code",
     "collapsed": false,
     "input": [
      "file_ = ROOT.TFile(\"Nov3/Oct19-__JetHT.root\")\n",
      "tree = file_.Get(\"tree\")"
     ],
     "language": "python",
     "metadata": {},
     "outputs": [],
     "prompt_number": 2
    },
    {
     "cell_type": "code",
     "collapsed": false,
     "input": [
      "xnb, xmin, xmax = 200,0,1\n",
      "ynb, ymin, ymax = 200,0,1\n",
      "#const = ROOT.TF2(\"const\",\"0\", ymin, ymax, xmin, xmax)"
     ],
     "language": "python",
     "metadata": {},
     "outputs": [],
     "prompt_number": 3
    },
    {
     "cell_type": "code",
     "collapsed": false,
     "input": [
      "tree.Draw(\"Sum$(CSVn(jets_btagCSV,1,Iteration$,Length$)) >> den(%s,%s,%s)\"%(xnb, xmin, xmax),\"(HLT_BIT_HLT_PFHT400_SixJet30_v)&&is_fh\",\"goff\")\n",
      "den = ROOT.gDirectory.Get(\"den\").Clone(\"den\")\n",
      "#den.Add(const)\n",
      "den.Draw(\"\")"
     ],
     "language": "python",
     "metadata": {},
     "outputs": [],
     "prompt_number": 4
    },
    {
     "cell_type": "code",
     "collapsed": false,
     "input": [
      "PFHT400 = \"HLT_BIT_HLT_PFHT400_SixJet30_v\"\n",
      "tree.Draw(\"Sum$(CSVn(jets_btagCSV,1,Iteration$,Length$)) >> PFHT450(%s,%s,%s)\"%(xnb, xmin, xmax),\"(HLT_BIT_HLT_PFHT400_SixJet30_v)&&HLT_BIT_HLT_PFHT400_SixJet30_DoubleBTagCSV_p056_v&&is_fh\",\"goff\")\n",
      "PFHT400 = ROOT.gDirectory.Get(\"PFHT450\").Clone(\"PFHT450\")\n",
      "PFHT400.Draw(\"\")"
     ],
     "language": "python",
     "metadata": {},
     "outputs": [],
     "prompt_number": 5
    },
    {
     "cell_type": "code",
     "collapsed": false,
     "input": [
      "PFHT400.Sumw2()\n",
      "PFHT400_ratio = den.Clone(\"PFHT400\")\n",
      "PFHT400_ratio.Divide(PFHT400,den,1,1,\"cl=0.683 b(1,1) mode\")\n",
      "PFHT400_ratio.Draw(\"\")"
     ],
     "language": "python",
     "metadata": {},
     "outputs": [],
     "prompt_number": 6
    },
    {
     "cell_type": "code",
     "collapsed": false,
     "input": [
      "fit400 = ROOT.TF1(\"fit400\",\"[0]+[1]*x+[2]*x**2+[3]*x**3+[4]*x**4+[5]*x**5\",xmin,xmax)\n",
      "fit400.SetParameters(0,1,0,0,0)\n",
      "PFHT400_ratio.Fit(fit400)\n",
      "fit400.GetExpFormula(\"P\")"
     ],
     "language": "python",
     "metadata": {},
     "outputs": [
      {
       "metadata": {},
       "output_type": "pyout",
       "prompt_number": 7,
       "text": [
        "'0.0685113+-1.24983*x+8.97234*pow(x,2)+-23.8342*pow(x,3)+29.3372*pow(x,4)+-12.3525*pow(x,5)'"
       ]
      }
     ],
     "prompt_number": 7
    },
    {
     "cell_type": "code",
     "collapsed": false,
     "input": [
      "f400 = fit400.GetExpFormula(\"P\")\n",
      "f400 = str(f400).replace(\"--\",\"+\")\n",
      "f400 = str(f400).replace(\"+-\",\"-\")\n",
      "f400 = str(f400).replace(\"-+\",\"-\")\n",
      "f400 = f400.replace(\"x\",\"csv2\")"
     ],
     "language": "python",
     "metadata": {},
     "outputs": [],
     "prompt_number": 8
    },
    {
     "cell_type": "code",
     "collapsed": false,
     "input": [
      "tree.Draw(\"HLT_BIT_HLT_PFHT400_SixJet30_DoubleBTagCSV_p056_v >> prescale\",\"(HLT_BIT_HLT_PFHT400_SixJet30_v)&&is_fh\",\"goff\")\n",
      "prescale = ROOT.gDirectory.Get(\"prescale\").Clone(\"prescale\")"
     ],
     "language": "python",
     "metadata": {},
     "outputs": [],
     "prompt_number": 9
    },
    {
     "cell_type": "code",
     "collapsed": false,
     "input": [
      "print \"float triggerCSV400(float ht, float pt6, float csv2){\"\n",
      "print \"    float value = trigger400(ht, pt6) / %f;\"%(prescale.GetMean())\n",
      "print \"    value = value * (%s);\"%(f400)\n",
      "print \"    return between0and1(value);\"\n",
      "print \"}\"\n",
      "print \"\""
     ],
     "language": "python",
     "metadata": {},
     "outputs": [
      {
       "output_type": "stream",
       "stream": "stdout",
       "text": [
        "float triggerCSV400(float ht, float pt6, float csv2){\n",
        "    float value = trigger400(ht, pt6) / 0.179365;\n",
        "    value = value * (0.0685113-1.24983*csv2+8.97234*pow(csv2,2)-23.8342*pow(csv2,3)+29.3372*pow(csv2,4)-12.3525*pow(csv2,5));\n",
        "    return between0and1(value);\n",
        "}\n",
        "\n"
       ]
      }
     ],
     "prompt_number": 10
    },
    {
     "cell_type": "code",
     "collapsed": false,
     "input": [],
     "language": "python",
     "metadata": {},
     "outputs": [],
     "prompt_number": 10
    },
    {
     "cell_type": "code",
     "collapsed": false,
     "input": [],
     "language": "python",
     "metadata": {},
     "outputs": [],
     "prompt_number": 10
    },
    {
     "cell_type": "code",
     "collapsed": false,
     "input": [
      "c1 = ROOT.TCanvas(\"c1\",\"\")\n",
      "PFHT400_ratio.SetMaximum(1.)\n",
      "PFHT400_ratio.SetMinimum(0.)\n",
      "PFHT400_ratio.Draw(\"COLZ\")\n",
      "c2 = ROOT.TCanvas(\"c2\",\"\")\n",
      "fit400.SetMaximum(1.)\n",
      "fit400.SetMinimum(0.)\n",
      "fit400.Draw(\"COLZ\")"
     ],
     "language": "python",
     "metadata": {},
     "outputs": [
      {
       "output_type": "stream",
       "stream": "stderr",
       "text": [
        "TCanvas::Constructor:0: RuntimeWarning: Deleting canvas with same name: c1\n"
       ]
      }
     ],
     "prompt_number": 11
    },
    {
     "cell_type": "code",
     "collapsed": false,
     "input": [],
     "language": "python",
     "metadata": {},
     "outputs": [],
     "prompt_number": 11
    },
    {
     "cell_type": "code",
     "collapsed": false,
     "input": [
      "c1 = ROOT.TCanvas(\"c1\",\"\")\n",
      "den.Draw(\"\")\n",
      "den.GetXaxis().SetTitle(\"CSV1\")\n",
      "den.GetYaxis().SetTitle(\"Events\")\n",
      "den.SetTitle(\"CSV1 distribution\")\n",
      "den.SetLineColor(ROOT.kBlack)\n",
      "den.SetLineWidth(2)\n",
      "PFHT400.SetLineColor(ROOT.kBlue)\n",
      "PFHT400.SetLineWidth(2)\n",
      "PFHT400.Draw(\"same\")\n",
      "c1.SetLogy(0)\n",
      "c2 = ROOT.TCanvas(\"c2\",\"\")\n",
      "PFHT400_ratio.Draw(\"\")\n",
      "PFHT400_ratio.GetXaxis().SetTitle(\"CSV1\")\n",
      "PFHT400_ratio.GetYaxis().SetTitle(\"Efficiency\")\n",
      "PFHT400_ratio.SetTitle(\"Online b-tagging efficiency\")\n",
      "PFHT400_ratio.SetLineColor(ROOT.kBlack)\n",
      "PFHT400_ratio.SetLineWidth(2)\n",
      "\n",
      "fit400.SetMaximum(1.)\n",
      "fit400.SetMinimum(0.)\n",
      "fit400.Draw(\"same\")\n",
      "\n",
      "c1.Update()\n",
      "c1.SaveAs(\"CSV2.png\")\n",
      "c2.Update()\n",
      "c2.SaveAs(\"CSV2-eff.png\")"
     ],
     "language": "python",
     "metadata": {},
     "outputs": [
      {
       "output_type": "stream",
       "stream": "stderr",
       "text": [
        "TCanvas::Constructor:0: RuntimeWarning: Deleting canvas with same name: c1\n",
        "TCanvas::Constructor:0: RuntimeWarning: Deleting canvas with same name: c2\n"
       ]
      }
     ],
     "prompt_number": 13
    },
    {
     "cell_type": "code",
     "collapsed": false,
     "input": [],
     "language": "python",
     "metadata": {},
     "outputs": []
    },
    {
     "cell_type": "code",
     "collapsed": false,
     "input": [],
     "language": "python",
     "metadata": {},
     "outputs": []
    }
   ],
   "metadata": {}
  }
 ]
}