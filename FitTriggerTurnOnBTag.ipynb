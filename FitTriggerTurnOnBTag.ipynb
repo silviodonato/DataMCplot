{
 "metadata": {
  "name": "",
  "signature": "sha256:37331c896d2b3fcae1934934e13e780ce6a2ed01054f2fca8d9114d26f681918"
 },
 "nbformat": 3,
 "nbformat_minor": 0,
 "worksheets": [
  {
   "cells": [
    {
     "cell_type": "code",
     "collapsed": false,
     "input": [
      "import ROOT\n",
      "ROOT.gStyle.SetOptStat(0)\n",
      "'''\n",
      "HLT_BIT_HLT_PFHT450_SixJet40_v\n",
      "HLT_BIT_HLT_PFHT400_SixJet30_v\n",
      "HLT_BIT_HLT_PFHT450_SixJet40_BTagCSV_p056_v\n",
      "HLT_BIT_HLT_PFHT400_SixJet30_DoubleBTagCSV_p056_v\n",
      "'''"
     ],
     "language": "python",
     "metadata": {},
     "outputs": [
      {
       "metadata": {},
       "output_type": "pyout",
       "prompt_number": 1,
       "text": [
        "'\\nHLT_BIT_HLT_PFHT450_SixJet40_v\\nHLT_BIT_HLT_PFHT400_SixJet30_v\\nHLT_BIT_HLT_PFHT450_SixJet40_BTagCSV_p056_v\\nHLT_BIT_HLT_PFHT400_SixJet30_DoubleBTagCSV_p056_v\\n'"
       ]
      }
     ],
     "prompt_number": 1
    },
    {
     "cell_type": "code",
     "collapsed": false,
     "input": [
      "file_ = ROOT.TFile(\"Nov3/Oct19-__JetHT.root\")\n",
      "tree = file_.Get(\"tree\")"
     ],
     "language": "python",
     "metadata": {},
     "outputs": [],
     "prompt_number": 2
    },
    {
     "cell_type": "code",
     "collapsed": false,
     "input": [
      "xnb, xmin, xmax = 200,0,1\n",
      "ynb, ymin, ymax = 200,0,1\n",
      "#const = ROOT.TF2(\"const\",\"0\", ymin, ymax, xmin, xmax)"
     ],
     "language": "python",
     "metadata": {},
     "outputs": [],
     "prompt_number": 3
    },
    {
     "cell_type": "code",
     "collapsed": false,
     "input": [
      "tree.Draw(\"Max$(jets_btagCSV) >> den(%s,%s,%s)\"%(xnb, xmin, xmax),\"(HLT_BIT_HLT_PFHT450_SixJet40_v)&&is_fh\",\"goff\")\n",
      "den = ROOT.gDirectory.Get(\"den\").Clone(\"den\")\n",
      "#den.Add(const)\n",
      "den.Draw(\"\")"
     ],
     "language": "python",
     "metadata": {},
     "outputs": [],
     "prompt_number": 4
    },
    {
     "cell_type": "code",
     "collapsed": false,
     "input": [
      "PFHT450 = \"HLT_BIT_HLT_PFHT400_SixJet30_v\"\n",
      "tree.Draw(\"Max$(jets_btagCSV) >> PFHT450(%s,%s,%s)\"%(xnb, xmin, xmax),\"(HLT_BIT_HLT_PFHT450_SixJet40_v)&&HLT_BIT_HLT_PFHT450_SixJet40_BTagCSV_p056_v&&is_fh\",\"goff\")\n",
      "PFHT450 = ROOT.gDirectory.Get(\"PFHT450\").Clone(\"PFHT450\")\n",
      "PFHT450.Draw(\"\")"
     ],
     "language": "python",
     "metadata": {},
     "outputs": [],
     "prompt_number": 5
    },
    {
     "cell_type": "code",
     "collapsed": false,
     "input": [
      "PFHT450.Sumw2()\n",
      "PFHT450_ratio = den.Clone(\"PFHT450\")\n",
      "PFHT450_ratio.Divide(PFHT450,den,1,1,\"cl=0.683 b(1,1) mode\")\n",
      "PFHT450_ratio.Draw(\"\")"
     ],
     "language": "python",
     "metadata": {},
     "outputs": [
      {
       "output_type": "stream",
       "stream": "stderr",
       "text": [
        "TH1F::Sumw2:0: RuntimeWarning: Sum of squares of weights structure already created\n"
       ]
      }
     ],
     "prompt_number": 11
    },
    {
     "cell_type": "code",
     "collapsed": false,
     "input": [
      "fit450 = ROOT.TF1(\"fit450\",\"[0]+[1]*x+[2]*x**2+[3]*x**3+[4]*x**4+[5]*x**5\",xmin,xmax)\n",
      "fit450.SetParameters(0,1,0,0,0)\n",
      "PFHT450_ratio.Fit(fit450)\n",
      "fit450.GetExpFormula(\"P\")"
     ],
     "language": "python",
     "metadata": {},
     "outputs": [
      {
       "metadata": {},
       "output_type": "pyout",
       "prompt_number": 7,
       "text": [
        "'0.00724648+0.532534*x+2.48397*pow(x,2)+-9.78714*pow(x,3)+13.8441*pow(x,4)+-6.09396*pow(x,5)'"
       ]
      }
     ],
     "prompt_number": 7
    },
    {
     "cell_type": "code",
     "collapsed": false,
     "input": [
      "f450 = fit450.GetExpFormula(\"P\")\n",
      "f450 = str(f450).replace(\"--\",\"+\")\n",
      "f450 = str(f450).replace(\"+-\",\"-\")\n",
      "f450 = str(f450).replace(\"-+\",\"-\")\n",
      "f450 = f450.replace(\"x\",\"csv1\")"
     ],
     "language": "python",
     "metadata": {},
     "outputs": [],
     "prompt_number": 8
    },
    {
     "cell_type": "code",
     "collapsed": false,
     "input": [
      "tree.Draw(\"HLT_BIT_HLT_PFHT450_SixJet40_BTagCSV_p056_v >> prescale\",\"(HLT_BIT_HLT_PFHT450_SixJet40_v)&&is_fh\",\"goff\")\n",
      "prescale = ROOT.gDirectory.Get(\"prescale\").Clone(\"prescale\")"
     ],
     "language": "python",
     "metadata": {},
     "outputs": [],
     "prompt_number": 9
    },
    {
     "cell_type": "code",
     "collapsed": false,
     "input": [
      "print \"float triggerCSV450(float ht, float pt6, float csv1){\"\n",
      "print \"    float value = trigger450(ht, pt6) / %f;\"%(prescale.GetMean())\n",
      "print \"    value = value * (%s);\"%(f450)\n",
      "print \"    return between0and1(value);\"\n",
      "print \"}\"\n",
      "print \"\""
     ],
     "language": "python",
     "metadata": {},
     "outputs": [
      {
       "output_type": "stream",
       "stream": "stdout",
       "text": [
        "float triggerCSV450(float ht, float pt6, float csv1){\n",
        "    float value = trigger450(ht, pt6) / 0.545094;\n",
        "    value = value * (0.00724648+0.532534*csv1+2.48397*pow(csv1,2)-9.78714*pow(csv1,3)+13.8441*pow(csv1,4)-6.09396*pow(csv1,5));\n",
        "    return between0and1(value);\n",
        "}\n",
        "\n"
       ]
      }
     ],
     "prompt_number": 10
    },
    {
     "cell_type": "code",
     "collapsed": false,
     "input": [],
     "language": "python",
     "metadata": {},
     "outputs": [],
     "prompt_number": 10
    },
    {
     "cell_type": "code",
     "collapsed": false,
     "input": [],
     "language": "python",
     "metadata": {},
     "outputs": [],
     "prompt_number": 10
    },
    {
     "cell_type": "code",
     "collapsed": false,
     "input": [
      "c1 = ROOT.TCanvas(\"c1\",\"\")\n",
      "den.Draw(\"\")\n",
      "den.GetXaxis().SetTitle(\"CSV1\")\n",
      "den.GetYaxis().SetTitle(\"Events\")\n",
      "den.SetTitle(\"CSV1 distribution\")\n",
      "den.SetLineColor(ROOT.kBlack)\n",
      "den.SetLineWidth(2)\n",
      "PFHT450.SetLineColor(ROOT.kBlue)\n",
      "PFHT450.SetLineWidth(2)\n",
      "PFHT450.Draw(\"same\")\n",
      "c1.SetLogy(0)\n",
      "c2 = ROOT.TCanvas(\"c2\",\"\")\n",
      "PFHT450_ratio.Draw(\"\")\n",
      "PFHT450_ratio.GetXaxis().SetTitle(\"CSV1\")\n",
      "PFHT450_ratio.GetYaxis().SetTitle(\"Efficiency\")\n",
      "PFHT450_ratio.SetTitle(\"Online b-tagging efficiency\")\n",
      "PFHT450_ratio.SetLineColor(ROOT.kBlack)\n",
      "PFHT450_ratio.SetLineWidth(2)\n",
      "\n",
      "fit450.SetMaximum(1.)\n",
      "fit450.SetMinimum(0.)\n",
      "fit450.Draw(\"same\")\n",
      "\n",
      "c1.SaveAs(\"CSV1.png\")\n",
      "c2.SaveAs(\"CSV1-eff.png\")"
     ],
     "language": "python",
     "metadata": {},
     "outputs": [
      {
       "output_type": "stream",
       "stream": "stderr",
       "text": [
        "TCanvas::Constructor:0: RuntimeWarning: Deleting canvas with same name: c1\n",
        "TCanvas::Constructor:0: RuntimeWarning: Deleting canvas with same name: c2\n"
       ]
      }
     ],
     "prompt_number": 23
    },
    {
     "cell_type": "code",
     "collapsed": false,
     "input": [],
     "language": "python",
     "metadata": {},
     "outputs": [],
     "prompt_number": 20
    },
    {
     "cell_type": "code",
     "collapsed": false,
     "input": [],
     "language": "python",
     "metadata": {},
     "outputs": [
      {
       "ename": "NameError",
       "evalue": "name 'fit450' is not defined",
       "output_type": "pyerr",
       "traceback": [
        "\u001b[0;31m---------------------------------------------------------------------------\u001b[0m\n\u001b[0;31mNameError\u001b[0m                                 Traceback (most recent call last)",
        "\u001b[0;32m<ipython-input-1-f29844d356a7>\u001b[0m in \u001b[0;36m<module>\u001b[0;34m()\u001b[0m\n\u001b[0;32m----> 1\u001b[0;31m \u001b[0mfit450\u001b[0m\u001b[0;34m.\u001b[0m\u001b[0mEval\u001b[0m\u001b[0;34m(\u001b[0m\u001b[0;36m600\u001b[0m\u001b[0;34m,\u001b[0m\u001b[0;36m50\u001b[0m\u001b[0;34m)\u001b[0m\u001b[0;34m\u001b[0m\u001b[0m\n\u001b[0m",
        "\u001b[0;31mNameError\u001b[0m: name 'fit450' is not defined"
       ]
      }
     ],
     "prompt_number": 1
    },
    {
     "cell_type": "code",
     "collapsed": false,
     "input": [],
     "language": "python",
     "metadata": {},
     "outputs": []
    },
    {
     "cell_type": "code",
     "collapsed": false,
     "input": [],
     "language": "python",
     "metadata": {},
     "outputs": []
    }
   ],
   "metadata": {}
  }
 ]
}