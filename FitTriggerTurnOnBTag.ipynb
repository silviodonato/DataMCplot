{
 "metadata": {
  "name": "",
  "signature": "sha256:55c5139457dcc65960e4d3c20ad53c4b8c3a6ac65b101671b9c1f68a1e6c20be"
 },
 "nbformat": 3,
 "nbformat_minor": 0,
 "worksheets": [
  {
   "cells": [
    {
     "cell_type": "code",
     "collapsed": false,
     "input": [
      "import ROOT\n",
      "ROOT.gStyle.SetOptStat(0)\n",
      "'''\n",
      "HLT_BIT_HLT_PFHT450_SixJet40_v\n",
      "HLT_BIT_HLT_PFHT400_SixJet30_v\n",
      "HLT_BIT_HLT_PFHT450_SixJet40_BTagCSV_p056_v\n",
      "HLT_BIT_HLT_PFHT400_SixJet30_DoubleBTagCSV_p056_v\n",
      "'''"
     ],
     "language": "python",
     "metadata": {},
     "outputs": [
      {
       "metadata": {},
       "output_type": "pyout",
       "prompt_number": 1,
       "text": [
        "'\\nHLT_BIT_HLT_PFHT450_SixJet40_v\\nHLT_BIT_HLT_PFHT400_SixJet30_v\\nHLT_BIT_HLT_PFHT450_SixJet40_BTagCSV_p056_v\\nHLT_BIT_HLT_PFHT400_SixJet30_DoubleBTagCSV_p056_v\\n'"
       ]
      }
     ],
     "prompt_number": 1
    },
    {
     "cell_type": "code",
     "collapsed": false,
     "input": [
      "file_ = ROOT.TFile(\"Nov3/Oct19-__JetHT.root\")\n",
      "tree = file_.Get(\"tree\")"
     ],
     "language": "python",
     "metadata": {},
     "outputs": [],
     "prompt_number": 2
    },
    {
     "cell_type": "code",
     "collapsed": false,
     "input": [
      "xnb, xmin, xmax = 200,0,1\n",
      "ynb, ymin, ymax = 200,0,1\n",
      "#const = ROOT.TF2(\"const\",\"0\", ymin, ymax, xmin, xmax)"
     ],
     "language": "python",
     "metadata": {},
     "outputs": [],
     "prompt_number": 3
    },
    {
     "cell_type": "code",
     "collapsed": false,
     "input": [
      "tree.Draw(\"Max$(jets_btagCSV) >> den(%s,%s,%s)\"%(xnb, xmin, xmax),\"(HLT_BIT_HLT_PFHT450_SixJet40_v)&&is_fh\",\"goff\")\n",
      "den = ROOT.gDirectory.Get(\"den\").Clone(\"den\")\n",
      "#den.Add(const)\n",
      "den.Draw(\"\")"
     ],
     "language": "python",
     "metadata": {},
     "outputs": [],
     "prompt_number": 4
    },
    {
     "cell_type": "code",
     "collapsed": false,
     "input": [
      "PFHT450 = \"HLT_BIT_HLT_PFHT400_SixJet30_v\"\n",
      "tree.Draw(\"Max$(jets_btagCSV) >> PFHT450(%s,%s,%s)\"%(xnb, xmin, xmax),\"(HLT_BIT_HLT_PFHT450_SixJet40_v)&&HLT_BIT_HLT_PFHT450_SixJet40_BTagCSV_p056_v&&is_fh\",\"goff\")\n",
      "PFHT450 = ROOT.gDirectory.Get(\"PFHT450\").Clone(\"PFHT450\")\n",
      "PFHT450.Draw(\"\")"
     ],
     "language": "python",
     "metadata": {},
     "outputs": [],
     "prompt_number": 5
    },
    {
     "cell_type": "code",
     "collapsed": false,
     "input": [
      "PFHT450.Sumw2()\n",
      "PFHT450_ratio = den.Clone(\"PFHT450\")\n",
      "PFHT450_ratio.Divide(PFHT450,den,1,1,\"cl=0.683 b(1,1) mode\")\n",
      "PFHT450_ratio.Draw(\"\")"
     ],
     "language": "python",
     "metadata": {},
     "outputs": [],
     "prompt_number": 6
    },
    {
     "cell_type": "code",
     "collapsed": false,
     "input": [
      "fit450 = ROOT.TF1(\"fit450\",\"[0]+[1]*x+[2]*x**2+[3]*x**3+[4]*x**4\",xmin,xmax)\n",
      "fit450.SetParameters(0,1,0,0,0)\n",
      "PFHT450_ratio.Fit(fit450)\n",
      "fit450.GetExpFormula(\"P\")"
     ],
     "language": "python",
     "metadata": {},
     "outputs": [
      {
       "metadata": {},
       "output_type": "pyout",
       "prompt_number": 7,
       "text": [
        "'-0.191881+2.94014*x+-7.87019*pow(x,2)+10.3816*pow(x,3)+-4.27114*pow(x,4)'"
       ]
      }
     ],
     "prompt_number": 7
    },
    {
     "cell_type": "code",
     "collapsed": false,
     "input": [
      "f450 = fit450.GetExpFormula(\"P\")\n",
      "f450 = str(f450).replace(\"--\",\"+\")\n",
      "f450 = str(f450).replace(\"+-\",\"-\")\n",
      "f450 = str(f450).replace(\"-+\",\"-\")\n",
      "f450 = f450.replace(\"x\",\"csv1\")"
     ],
     "language": "python",
     "metadata": {},
     "outputs": [],
     "prompt_number": 8
    },
    {
     "cell_type": "code",
     "collapsed": false,
     "input": [
      "tree.Draw(\"HLT_BIT_HLT_PFHT450_SixJet40_BTagCSV_p056_v >> prescale\",\"(HLT_BIT_HLT_PFHT450_SixJet40_v)&&is_fh\",\"goff\")\n",
      "prescale = ROOT.gDirectory.Get(\"prescale\").Clone(\"prescale\")"
     ],
     "language": "python",
     "metadata": {},
     "outputs": [],
     "prompt_number": 10
    },
    {
     "cell_type": "code",
     "collapsed": false,
     "input": [
      "print \"float triggerCSV450(float ht, float pt6, float csv1){\"\n",
      "print \"    float value = trigger450(ht, pt6) / %f;\"%(prescale.GetMean())\n",
      "print \"    value = value * %s;\"%(f450)\n",
      "print \"    return between0and1(value);\"\n",
      "print \"}\"\n",
      "print \"\""
     ],
     "language": "python",
     "metadata": {},
     "outputs": [
      {
       "output_type": "stream",
       "stream": "stdout",
       "text": [
        "float triggerCSV450(float ht, float pt6, float csv1){\n",
        "    float value = trigger450(ht, pt6) / 0.545094;\n",
        "    value = value * -0.191881+2.94014*csv1-7.87019*pow(csv1,2)+10.3816*pow(csv1,3)-4.27114*pow(csv1,4);\n",
        "    return between0and1(value);\n",
        "}\n",
        "\n"
       ]
      }
     ],
     "prompt_number": 11
    },
    {
     "cell_type": "code",
     "collapsed": false,
     "input": [],
     "language": "python",
     "metadata": {},
     "outputs": []
    },
    {
     "cell_type": "code",
     "collapsed": false,
     "input": [],
     "language": "python",
     "metadata": {},
     "outputs": []
    },
    {
     "cell_type": "code",
     "collapsed": false,
     "input": [
      "c1 = ROOT.TCanvas(\"c1\",\"\")\n",
      "PFHT400_ratio.SetMaximum(1.)\n",
      "PFHT400_ratio.SetMinimum(0.)\n",
      "PFHT400_ratio.Draw(\"COLZ\")\n",
      "c2 = ROOT.TCanvas(\"c2\",\"\")\n",
      "fit400.SetMaximum(1.)\n",
      "fit400.SetMinimum(0.)\n",
      "fit400.Draw(\"COLZ\")"
     ],
     "language": "python",
     "metadata": {},
     "outputs": []
    },
    {
     "cell_type": "code",
     "collapsed": false,
     "input": [],
     "language": "python",
     "metadata": {},
     "outputs": []
    },
    {
     "cell_type": "code",
     "collapsed": false,
     "input": [],
     "language": "python",
     "metadata": {},
     "outputs": []
    },
    {
     "cell_type": "code",
     "collapsed": false,
     "input": [],
     "language": "python",
     "metadata": {},
     "outputs": []
    },
    {
     "cell_type": "code",
     "collapsed": false,
     "input": [],
     "language": "python",
     "metadata": {},
     "outputs": []
    }
   ],
   "metadata": {}
  }
 ]
}