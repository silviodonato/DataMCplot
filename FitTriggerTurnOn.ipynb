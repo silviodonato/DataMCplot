{
 "metadata": {
  "name": "",
  "signature": "sha256:2c642b34bae036abd9486c5b92bb2478c726079b456cb1aa737e368bbb63708a"
 },
 "nbformat": 3,
 "nbformat_minor": 0,
 "worksheets": [
  {
   "cells": [
    {
     "cell_type": "code",
     "collapsed": false,
     "input": [
      "import ROOT, copy\n",
      "ROOT.gStyle.SetOptStat(0)\n",
      "'''\n",
      "HLT_BIT_HLT_PFHT450_SixJet40_v\n",
      "HLT_BIT_HLT_PFHT400_SixJet30_v\n",
      "HLT_BIT_HLT_PFHT450_SixJet40_BTagCSV_p056_v\n",
      "HLT_BIT_HLT_PFHT400_SixJet30_DoubleBTagCSV_p056_v\n",
      "'''"
     ],
     "language": "python",
     "metadata": {},
     "outputs": [
      {
       "metadata": {},
       "output_type": "pyout",
       "prompt_number": 1,
       "text": [
        "'\\nHLT_BIT_HLT_PFHT450_SixJet40_v\\nHLT_BIT_HLT_PFHT400_SixJet30_v\\nHLT_BIT_HLT_PFHT450_SixJet40_BTagCSV_p056_v\\nHLT_BIT_HLT_PFHT400_SixJet30_DoubleBTagCSV_p056_v\\n'"
       ]
      }
     ],
     "prompt_number": 1
    },
    {
     "cell_type": "code",
     "collapsed": false,
     "input": [
      "file_ = ROOT.TFile(\"Nov3_lept/Oct19-__SingleMuon.root\")\n",
      "tree = file_.Get(\"tree\")"
     ],
     "language": "python",
     "metadata": {},
     "outputs": [],
     "prompt_number": 2
    },
    {
     "cell_type": "code",
     "collapsed": false,
     "input": [
      "xnb, xmin, xmax = 20,300,800\n",
      "ynb, ymin, ymax = 15,30,60\n",
      "#const = ROOT.TF2(\"const\",\"0\", ymin, ymax, xmin, xmax)"
     ],
     "language": "python",
     "metadata": {},
     "outputs": [],
     "prompt_number": 3
    },
    {
     "cell_type": "code",
     "collapsed": false,
     "input": [
      "denTrigger = \"(HLT_BIT_HLT_IsoMu20_v||HLT_BIT_HLT_IsoTkMu20_v)&&is_sl&&(leps_pt[0]<999)&& run<276811\""
     ],
     "language": "python",
     "metadata": {},
     "outputs": [],
     "prompt_number": 4
    },
    {
     "cell_type": "code",
     "collapsed": false,
     "input": [
      "tree.Draw(\"ht:Alt$(jets_pt[5],0) >> den(%s,%s,%s,%s,%s,%s)\"%(ynb, ymin, ymax, xnb, xmin, xmax),\"%s\"%denTrigger,\"goff\")\n",
      "den = ROOT.gDirectory.Get(\"den\").Clone(\"den\")\n",
      "#den.Multiply(const)\n",
      "den.Draw(\"COLZ\")"
     ],
     "language": "python",
     "metadata": {},
     "outputs": [],
     "prompt_number": 5
    },
    {
     "cell_type": "code",
     "collapsed": false,
     "input": [
      "PFHT400 = \"HLT_BIT_HLT_PFHT400_SixJet30_v\"\n",
      "tree.Draw(\"ht:Alt$(jets_pt[5],0) >> PFHT400(%s,%s,%s,%s,%s,%s)\"%(ynb, ymin, ymax, xnb, xmin, xmax),\"%s&&HLT_BIT_HLT_PFHT400_SixJet30_v\"%denTrigger,\"goff\")\n",
      "PFHT400 = ROOT.gDirectory.Get(\"PFHT400\").Clone(\"PFHT400\")\n",
      "#PFHT400.Add(const)\n",
      "PFHT400.Draw(\"COLZ\")"
     ],
     "language": "python",
     "metadata": {},
     "outputs": [],
     "prompt_number": 6
    },
    {
     "cell_type": "code",
     "collapsed": false,
     "input": [
      "PFHT450 = \"HLT_BIT_HLT_PFHT400_SixJet30_v\"\n",
      "tree.Draw(\"ht:Alt$(jets_pt[5],0) >> PFHT450(%s,%s,%s,%s,%s,%s)\"%(ynb, ymin, ymax, xnb, xmin, xmax),\"%s&&HLT_BIT_HLT_PFHT450_SixJet40_v\"%denTrigger,\"goff\")\n",
      "PFHT450 = ROOT.gDirectory.Get(\"PFHT450\").Clone(\"PFHT450\")\n",
      "#PFHT450.Add(const)\n",
      "PFHT450.Draw(\"COLZ\")"
     ],
     "language": "python",
     "metadata": {},
     "outputs": [],
     "prompt_number": 7
    },
    {
     "cell_type": "code",
     "collapsed": false,
     "input": [
      "PFHT450.Sumw2()\n",
      "PFHT450_ratio = den.Clone(\"PFHT450\")\n",
      "PFHT450_ratio.Divide(PFHT450,den,1,1,\"cl=0.683 b(1,1) mode\")\n",
      "PFHT450_ratio.Draw(\"COLZ\")"
     ],
     "language": "python",
     "metadata": {},
     "outputs": [],
     "prompt_number": 8
    },
    {
     "cell_type": "code",
     "collapsed": false,
     "input": [
      "fit450 = ROOT.TF2(\"fit450\",\"[5]+[4]*0.25*(1.+erf( (x-[0])/[1]))*(1+erf( (y-[2])/[3]))/2\",ymin,ymax,xmin,xmax)\n",
      "fit450.SetParLimits(0,0,60)\n",
      "fit450.SetParLimits(1,1,50)\n",
      "fit450.SetParLimits(2,200,600)\n",
      "fit450.SetParLimits(3,25,150)\n",
      "fit450.SetParLimits(4,0,2)\n",
      "fit450.SetParLimits(5,-1,1)\n",
      "fit450.SetParLimits(6,0,2)\n",
      "fit450.SetParameters(33,15,500,150,1,0)\n",
      "#fit450.SetParameter(4,1)\n",
      "PFHT450_ratio.Fit(fit450)\n",
      "fit450.GetExpFormula(\"P\")"
     ],
     "language": "python",
     "metadata": {},
     "outputs": [
      {
       "metadata": {},
       "output_type": "pyout",
       "prompt_number": 9,
       "text": [
        "'0.00369199+1.30284*0.25*(1.+erf((x-38.2357)/10.9048))*(1+erf((y-426.231)/76.4188))/2'"
       ]
      }
     ],
     "prompt_number": 9
    },
    {
     "cell_type": "code",
     "collapsed": false,
     "input": [
      "c1 = ROOT.TCanvas(\"c1\",\"\")\n",
      "PFHT450_ratio.SetMaximum(1.)\n",
      "PFHT450_ratio.SetMinimum(0.)\n",
      "PFHT450_ratio.Draw(\"COLZ\")\n",
      "c2 = ROOT.TCanvas(\"c2\",\"\")\n",
      "fit450.SetMaximum(1.)\n",
      "fit450.SetMinimum(0.)\n",
      "fit450.Draw(\"COLZ\")"
     ],
     "language": "python",
     "metadata": {},
     "outputs": [
      {
       "output_type": "stream",
       "stream": "stderr",
       "text": [
        "TCanvas::Constructor:0: RuntimeWarning: Deleting canvas with same name: c1\n"
       ]
      }
     ],
     "prompt_number": 10
    },
    {
     "cell_type": "code",
     "collapsed": false,
     "input": [
      "PFHT400.Sumw2()\n",
      "den.Sumw2()\n",
      "PFHT400_ratio = den.Clone(\"PFHT400\")\n",
      "PFHT400_ratio.Divide(PFHT400,den,1,1,\"cl=0.683 b(1,1) mode\")\n",
      "PFHT400_ratio.Draw(\"COLZ\")"
     ],
     "language": "python",
     "metadata": {},
     "outputs": [],
     "prompt_number": 11
    },
    {
     "cell_type": "code",
     "collapsed": false,
     "input": [
      "fit400 = fit450.Clone(\"fit400\")\n",
      "#fit400.SetParameters(30,3,350,30,1,1)\n",
      "PFHT400_ratio.Fit(fit400)\n",
      "fit400.GetExpFormula(\"P\")"
     ],
     "language": "python",
     "metadata": {},
     "outputs": [
      {
       "output_type": "stream",
       "stream": "stderr",
       "text": [
        "Fit:0: RuntimeWarning: Abnormal termination of minimization.\n"
       ]
      },
      {
       "metadata": {},
       "output_type": "pyout",
       "prompt_number": 12,
       "text": [
        "'0.0612614+0.432906*0.25*(1.+erf((x-26.5964)/22.6479))*(1+erf((y-362.727)/57.5796))/2'"
       ]
      }
     ],
     "prompt_number": 12
    },
    {
     "cell_type": "code",
     "collapsed": false,
     "input": [
      "c1 = ROOT.TCanvas(\"c1\",\"\")\n",
      "PFHT400_ratio.SetMaximum(1.)\n",
      "PFHT400_ratio.SetMinimum(0.)\n",
      "PFHT400_ratio.Draw(\"COLZ\")\n",
      "c2 = ROOT.TCanvas(\"c2\",\"\")\n",
      "fit400.SetMaximum(1.)\n",
      "fit400.SetMinimum(0.)\n",
      "fit400.Draw(\"COLZ\")"
     ],
     "language": "python",
     "metadata": {},
     "outputs": [
      {
       "output_type": "stream",
       "stream": "stderr",
       "text": [
        "TCanvas::Constructor:0: RuntimeWarning: Deleting canvas with same name: c1\n",
        "TCanvas::Constructor:0: RuntimeWarning: Deleting canvas with same name: c2\n"
       ]
      }
     ],
     "prompt_number": 13
    },
    {
     "cell_type": "code",
     "collapsed": false,
     "input": [
      "def checkWeight(den,PFHT450,fit450):\n",
      "    den_PFHT450weight = den.Clone(\"den_PFHT450weight\")\n",
      "    den_PFHT450weight.Multiply(fit450)\n",
      "\n",
      "    max_ = max(den_PFHT450weight.GetMaximum(),PFHT450.GetMaximum())\n",
      "    min_ = min(den_PFHT450weight.GetMinimum(),PFHT450.GetMinimum())\n",
      "    min_ = -0.00001\n",
      "\n",
      "    const = ROOT.TF2(\"const\",\"0.01\", ymin, ymax, xmin, xmax)\n",
      "\n",
      "    den_PFHT450weight.Add(const)\n",
      "#    g1 = ROOT.TGraph2D(den_PFHT450weight)\n",
      "    g1 = den_PFHT450weight\n",
      "    g1.SetTitle(\"Reweighted\")\n",
      "    g1.SetMaximum(max_)\n",
      "    g1.SetMinimum(min_)\n",
      "\n",
      "    PFHT450.Add(const)\n",
      " #   g2 = ROOT.TGraph2D(PFHT450)\n",
      "    g2 = PFHT450\n",
      "    g2.SetTitle(\"Triggered\")\n",
      "    g2.SetMaximum(max_)\n",
      "    g2.SetMinimum(min_)\n",
      "    return copy.copy(g1),copy.copy(g2)\n"
     ],
     "language": "python",
     "metadata": {},
     "outputs": [],
     "prompt_number": 14
    },
    {
     "cell_type": "code",
     "collapsed": false,
     "input": [
      "g1,g2 = checkWeight(den,PFHT450,fit450)\n",
      "c5 = ROOT.TCanvas(\"c5\",\"\")\n",
      "c5.Divide(2)\n",
      "c5.cd(1)\n",
      "g1.Draw(\"COLZ\")\n",
      "c5.cd(2)\n",
      "g2.Draw(\"COLZ\")"
     ],
     "language": "python",
     "metadata": {},
     "outputs": [],
     "prompt_number": 15
    },
    {
     "cell_type": "code",
     "collapsed": false,
     "input": [
      "g1,g2 = checkWeight(den,PFHT400,fit400)\n",
      "c2 = ROOT.TCanvas(\"c2\",\"\")\n",
      "c2.Divide(2)\n",
      "c2.cd(1)\n",
      "g1.Draw(\"COLZ\")\n",
      "c2.cd(2)\n",
      "g2.Draw(\"COLZ\")"
     ],
     "language": "python",
     "metadata": {},
     "outputs": [
      {
       "output_type": "stream",
       "stream": "stderr",
       "text": [
        "TCanvas::Constructor:0: RuntimeWarning: Deleting canvas with same name: c2\n"
       ]
      }
     ],
     "prompt_number": 16
    },
    {
     "cell_type": "code",
     "collapsed": false,
     "input": [
      "c3 = ROOT.TCanvas(\"c3\",\"\")\n",
      "c3.Divide(2)\n",
      "c3.cd(1)\n",
      "PFHT450_ratio.Draw(\"COLZ\")\n",
      "c3.cd(2)\n",
      "fit450.Draw(\"COLZ\")"
     ],
     "language": "python",
     "metadata": {},
     "outputs": [],
     "prompt_number": 17
    },
    {
     "cell_type": "code",
     "collapsed": false,
     "input": [
      "c4 = ROOT.TCanvas(\"c4\",\"\")\n",
      "c4.Divide(2)\n",
      "c4.cd(1)\n",
      "PFHT400_ratio.Draw(\"COLZ\")\n",
      "c4.cd(2)\n",
      "fit400.Draw(\"COLZ\")"
     ],
     "language": "python",
     "metadata": {},
     "outputs": [],
     "prompt_number": 18
    },
    {
     "cell_type": "code",
     "collapsed": false,
     "input": [
      "c1.cd()"
     ],
     "language": "python",
     "metadata": {},
     "outputs": [
      {
       "metadata": {},
       "output_type": "pyout",
       "prompt_number": 19,
       "text": [
        "<ROOT.TCanvas object (\"c1\") at 0x4693220>"
       ]
      }
     ],
     "prompt_number": 19
    },
    {
     "cell_type": "code",
     "collapsed": false,
     "input": [
      "g_den = ROOT.TGraph2D(den)\n",
      "g_den.Draw(\"COLZ\")"
     ],
     "language": "python",
     "metadata": {},
     "outputs": [],
     "prompt_number": 20
    },
    {
     "cell_type": "code",
     "collapsed": false,
     "input": [
      "den.Draw(\"COLZ\")"
     ],
     "language": "python",
     "metadata": {},
     "outputs": [],
     "prompt_number": 21
    },
    {
     "cell_type": "code",
     "collapsed": false,
     "input": [
      "f400 = fit400.GetExpFormula(\"P\")\n",
      "f450 = fit450.GetExpFormula(\"P\")\n",
      "f400 = str(f400).replace(\"--\",\"+\")\n",
      "f450 = str(f450).replace(\"--\",\"+\")\n",
      "f400 = str(f400).replace(\"+-\",\"+\")\n",
      "f450 = str(f450).replace(\"+-\",\"+\")\n",
      "f400 = str(f400).replace(\"-+\",\"+\")\n",
      "f450 = str(f450).replace(\"-+\",\"+\")\n",
      "f450 = f450.replace(\"x\",\"pt6\")\n",
      "f450 = f450.replace(\"y\",\"ht\")\n",
      "f400 = f400.replace(\"x\",\"pt6\")\n",
      "f400 = f400.replace(\"y\",\"ht\")\n"
     ],
     "language": "python",
     "metadata": {},
     "outputs": [],
     "prompt_number": 33
    },
    {
     "cell_type": "code",
     "collapsed": false,
     "input": [
      "f450"
     ],
     "language": "python",
     "metadata": {},
     "outputs": [
      {
       "metadata": {},
       "output_type": "pyout",
       "prompt_number": 36,
       "text": [
        "'0.00369199+1.30284*0.25*(1.+erf((pt6-38.2357)/10.9048))*(1+erf((ht-426.231)/76.4188))/2'"
       ]
      }
     ],
     "prompt_number": 36
    },
    {
     "cell_type": "code",
     "collapsed": false,
     "input": [
      "print \"float trigger400(float ht, float pt6){\"\n",
      "print \"float value = %s;\"%(f400)\n",
      "print \"    return between0and1(value);\"\n",
      "print \"}\"\n",
      "print \"\"\n",
      "print \"float trigger450(float ht, float pt6){\"\n",
      "print \"float value = %s;\"%(f450)\n",
      "print \"    return between0and1(value);\"\n",
      "print \"}\""
     ],
     "language": "python",
     "metadata": {},
     "outputs": [
      {
       "output_type": "stream",
       "stream": "stdout",
       "text": [
        "float trigger400(float ht, float pt6){\n",
        "float value = 0.0612614+0.432906*0.25*(1.+erf((pt6-26.5964)/22.6479))*(1+erf((ht-362.727)/57.5796))/2;\n",
        "    return between0and1(value);\n",
        "}\n",
        "\n",
        "float trigger450(float ht, float pt6){\n",
        "float value = 0.00369199+1.30284*0.25*(1.+erf((pt6-38.2357)/10.9048))*(1+erf((ht-426.231)/76.4188))/2;\n",
        "    return between0and1(value);\n",
        "}\n"
       ]
      }
     ],
     "prompt_number": 37
    },
    {
     "cell_type": "code",
     "collapsed": false,
     "input": [],
     "language": "python",
     "metadata": {},
     "outputs": [],
     "prompt_number": 46
    },
    {
     "cell_type": "code",
     "collapsed": false,
     "input": [],
     "language": "python",
     "metadata": {},
     "outputs": [],
     "prompt_number": 46
    },
    {
     "cell_type": "code",
     "collapsed": false,
     "input": [],
     "language": "python",
     "metadata": {},
     "outputs": [],
     "prompt_number": 46
    },
    {
     "cell_type": "code",
     "collapsed": false,
     "input": [],
     "language": "python",
     "metadata": {},
     "outputs": []
    }
   ],
   "metadata": {}
  }
 ]
}