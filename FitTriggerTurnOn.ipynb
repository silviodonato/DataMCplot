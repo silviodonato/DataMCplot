{
 "metadata": {
  "name": "",
  "signature": "sha256:95783cccaa61c4be369ff72b1a45fb4151e8b51d1f0e1dbe67dd5f9284b02617"
 },
 "nbformat": 3,
 "nbformat_minor": 0,
 "worksheets": [
  {
   "cells": [
    {
     "cell_type": "code",
     "collapsed": false,
     "input": [
      "import ROOT, copy\n",
      "'''\n",
      "HLT_BIT_HLT_PFHT450_SixJet40_v\n",
      "HLT_BIT_HLT_PFHT400_SixJet30_v\n",
      "HLT_BIT_HLT_PFHT450_SixJet40_BTagCSV_p056_v\n",
      "HLT_BIT_HLT_PFHT400_SixJet30_DoubleBTagCSV_p056_v\n",
      "'''"
     ],
     "language": "python",
     "metadata": {},
     "outputs": [
      {
       "metadata": {},
       "output_type": "pyout",
       "prompt_number": 1,
       "text": [
        "'\\nHLT_BIT_HLT_PFHT450_SixJet40_v\\nHLT_BIT_HLT_PFHT400_SixJet30_v\\nHLT_BIT_HLT_PFHT450_SixJet40_BTagCSV_p056_v\\nHLT_BIT_HLT_PFHT400_SixJet30_DoubleBTagCSV_p056_v\\n'"
       ]
      }
     ],
     "prompt_number": 1
    },
    {
     "cell_type": "code",
     "collapsed": false,
     "input": [
      "file_ = ROOT.TFile(\"Oct19/Oct19-__SingleMuon.root\")\n",
      "tree = file_.Get(\"tree\")"
     ],
     "language": "python",
     "metadata": {},
     "outputs": [],
     "prompt_number": 2
    },
    {
     "cell_type": "code",
     "collapsed": false,
     "input": [
      "xnb, xmin, xmax = 80,200,1200\n",
      "ynb, ymin, ymax = 28,30,100\n",
      "#const = ROOT.TF2(\"const\",\"0\", ymin, ymax, xmin, xmax)"
     ],
     "language": "python",
     "metadata": {},
     "outputs": [],
     "prompt_number": 3
    },
    {
     "cell_type": "code",
     "collapsed": false,
     "input": [
      "tree.Draw(\"ht:Alt$(jets_pt[5],0) >> den(%s,%s,%s,%s,%s,%s)\"%(ynb, ymin, ymax, xnb, xmin, xmax),\"(HLT_BIT_HLT_IsoMu20_v||HLT_BIT_HLT_IsoTkMu20_v)&&is_sl\",\"goff\")\n",
      "den = ROOT.gDirectory.Get(\"den\").Clone(\"den\")\n",
      "#den.Multiply(const)\n",
      "den.Draw(\"COLZ\")"
     ],
     "language": "python",
     "metadata": {},
     "outputs": [],
     "prompt_number": 4
    },
    {
     "cell_type": "code",
     "collapsed": false,
     "input": [
      "PFHT400 = \"HLT_BIT_HLT_PFHT400_SixJet30_v\"\n",
      "tree.Draw(\"ht:Alt$(jets_pt[5],0) >> PFHT400(%s,%s,%s,%s,%s,%s)\"%(ynb, ymin, ymax, xnb, xmin, xmax),\"(HLT_BIT_HLT_IsoMu20_v||HLT_BIT_HLT_IsoTkMu20_v)&&is_sl&&HLT_BIT_HLT_PFHT400_SixJet30_v\",\"goff\")\n",
      "PFHT400 = ROOT.gDirectory.Get(\"PFHT400\").Clone(\"PFHT400\")\n",
      "#PFHT400.Add(const)\n",
      "PFHT400.Draw(\"COLZ\")"
     ],
     "language": "python",
     "metadata": {},
     "outputs": [],
     "prompt_number": 5
    },
    {
     "cell_type": "code",
     "collapsed": false,
     "input": [
      "PFHT450 = \"HLT_BIT_HLT_PFHT400_SixJet30_v\"\n",
      "tree.Draw(\"ht:Alt$(jets_pt[5],0) >> PFHT450(%s,%s,%s,%s,%s,%s)\"%(ynb, ymin, ymax, xnb, xmin, xmax),\"(HLT_BIT_HLT_IsoMu20_v||HLT_BIT_HLT_IsoTkMu20_v)&&is_sl&&HLT_BIT_HLT_PFHT450_SixJet40_v\",\"goff\")\n",
      "PFHT450 = ROOT.gDirectory.Get(\"PFHT450\").Clone(\"PFHT450\")\n",
      "#PFHT450.Add(const)\n",
      "PFHT450.Draw(\"COLZ\")"
     ],
     "language": "python",
     "metadata": {},
     "outputs": [],
     "prompt_number": 6
    },
    {
     "cell_type": "code",
     "collapsed": false,
     "input": [
      "PFHT450.Sumw2()\n",
      "PFHT450_ratio = den.Clone(\"PFHT450\")\n",
      "PFHT450_ratio.Divide(PFHT450,den,1,1,\"cl=0.683 b(1,1) mode\")\n",
      "PFHT450_ratio.Draw(\"COLZ\")"
     ],
     "language": "python",
     "metadata": {},
     "outputs": [],
     "prompt_number": 7
    },
    {
     "cell_type": "code",
     "collapsed": false,
     "input": [
      "fit450 = ROOT.TF2(\"fit450\",\"[5]+[4]*0.25*(1.+erf( (x-[0])/[1]))*(1+erf( (y-[2])/[3]))/2\",ymin,ymax,xmin,xmax)\n",
      "fit450.SetParLimits(0,0,60)\n",
      "fit450.SetParLimits(1,1,50)\n",
      "fit450.SetParLimits(2,200,600)\n",
      "fit450.SetParLimits(3,25,150)\n",
      "fit450.SetParLimits(4,0,2)\n",
      "fit450.SetParLimits(5,-1,1)\n",
      "fit450.SetParLimits(6,0,2)\n",
      "fit450.SetParameters(33,15,500,150,1,0)\n",
      "#fit450.SetParameter(4,1)\n",
      "PFHT450_ratio.Fit(fit450)\n",
      "fit450.GetExpFormula(\"P\")"
     ],
     "language": "python",
     "metadata": {},
     "outputs": [
      {
       "metadata": {},
       "output_type": "pyout",
       "prompt_number": 8,
       "text": [
        "'0.00519011+1.27471*0.25*(1.+erf((x-37.7919)/9.36544))*(1+erf((y-429.892)/84.6407))/2'"
       ]
      }
     ],
     "prompt_number": 8
    },
    {
     "cell_type": "code",
     "collapsed": false,
     "input": [
      "c1 = ROOT.TCanvas(\"c1\",\"\")\n",
      "PFHT450_ratio.SetMaximum(1.)\n",
      "PFHT450_ratio.SetMinimum(0.)\n",
      "PFHT450_ratio.Draw(\"COLZ\")\n",
      "c2 = ROOT.TCanvas(\"c2\",\"\")\n",
      "fit450.SetMaximum(1.)\n",
      "fit450.SetMinimum(0.)\n",
      "fit450.Draw(\"COLZ\")"
     ],
     "language": "python",
     "metadata": {},
     "outputs": [
      {
       "output_type": "stream",
       "stream": "stderr",
       "text": [
        "TCanvas::Constructor:0: RuntimeWarning: Deleting canvas with same name: c1\n",
        "TCanvas::Constructor:0: RuntimeWarning: Deleting canvas with same name: c2\n"
       ]
      }
     ],
     "prompt_number": 10
    },
    {
     "cell_type": "code",
     "collapsed": false,
     "input": [
      "PFHT400.Sumw2()\n",
      "den.Sumw2()\n",
      "PFHT400_ratio = den.Clone(\"PFHT400\")\n",
      "PFHT400_ratio.Divide(PFHT400,den,1,1,\"cl=0.683 b(1,1) mode\")\n",
      "PFHT400_ratio.Draw(\"COLZ\")"
     ],
     "language": "python",
     "metadata": {},
     "outputs": [],
     "prompt_number": 11
    },
    {
     "cell_type": "code",
     "collapsed": false,
     "input": [
      "fit400 = fit450.Clone(\"fit400\")\n",
      "#fit400.SetParameters(30,3,350,30,1,1)\n",
      "PFHT400_ratio.Fit(fit400)\n",
      "fit400.GetExpFormula(\"P\")"
     ],
     "language": "python",
     "metadata": {},
     "outputs": [
      {
       "metadata": {},
       "output_type": "pyout",
       "prompt_number": 12,
       "text": [
        "'-0.0152737+0.779279*0.25*(1.+erf((x-13.4755)/50))*(1+erf((y-349.617)/64.0324))/2'"
       ]
      }
     ],
     "prompt_number": 12
    },
    {
     "cell_type": "code",
     "collapsed": false,
     "input": [
      "c1 = ROOT.TCanvas(\"c1\",\"\")\n",
      "PFHT400_ratio.SetMaximum(1.)\n",
      "PFHT400_ratio.SetMinimum(0.)\n",
      "PFHT400_ratio.Draw(\"COLZ\")\n",
      "c2 = ROOT.TCanvas(\"c2\",\"\")\n",
      "fit400.SetMaximum(1.)\n",
      "fit400.SetMinimum(0.)\n",
      "fit400.Draw(\"COLZ\")"
     ],
     "language": "python",
     "metadata": {},
     "outputs": [
      {
       "output_type": "stream",
       "stream": "stderr",
       "text": [
        "TCanvas::Constructor:0: RuntimeWarning: Deleting canvas with same name: c1\n",
        "TCanvas::Constructor:0: RuntimeWarning: Deleting canvas with same name: c2\n"
       ]
      }
     ],
     "prompt_number": 13
    },
    {
     "cell_type": "code",
     "collapsed": false,
     "input": [
      "def checkWeight(den,PFHT450,fit450,c1):\n",
      "    den_PFHT450weight = den.Clone(\"den_PFHT450weight\")\n",
      "    den_PFHT450weight.Multiply(fit450)\n",
      "\n",
      "    max_ = max(den_PFHT450weight.GetMaximum(),PFHT450.GetMaximum())\n",
      "    min_ = min(den_PFHT450weight.GetMinimum(),PFHT450.GetMinimum())\n",
      "    min_ = -0.00001\n",
      "\n",
      "    const = ROOT.TF2(\"const\",\"0.01\", ymin, ymax, xmin, xmax)\n",
      "\n",
      "    den_PFHT450weight.Add(const)\n",
      "    g1 = ROOT.TGraph2D(den_PFHT450weight)\n",
      "    g1.SetTitle(\"Reweighted\")\n",
      "    g1.SetMaximum(max_)\n",
      "    g1.SetMinimum(min_)\n",
      "\n",
      "    PFHT450.Add(const)\n",
      "    g2 = ROOT.TGraph2D(PFHT450)\n",
      "    g2.SetTitle(\"Triggered\")\n",
      "    g2.SetMaximum(max_)\n",
      "    g2.SetMinimum(min_)\n",
      "    return copy.copy(g1),copy.copy(g2)\n"
     ],
     "language": "python",
     "metadata": {},
     "outputs": [],
     "prompt_number": 14
    },
    {
     "cell_type": "code",
     "collapsed": false,
     "input": [
      "g1,g2 = checkWeight(den,PFHT450,fit450,c1)\n",
      "c1 = ROOT.TCanvas(\"c1\",\"\")\n",
      "c1.Divide(2)\n",
      "c1.cd(1)\n",
      "g1.Draw(\"COLZ\")\n",
      "c1.cd(2)\n",
      "g2.Draw(\"COLZ\")"
     ],
     "language": "python",
     "metadata": {},
     "outputs": [
      {
       "output_type": "stream",
       "stream": "stderr",
       "text": [
        "TCanvas::Constructor:0: RuntimeWarning: Deleting canvas with same name: c1\n"
       ]
      }
     ],
     "prompt_number": 15
    },
    {
     "cell_type": "code",
     "collapsed": false,
     "input": [
      "g1,g2 = checkWeight(den,PFHT400,fit400,c1)\n",
      "c2 = ROOT.TCanvas(\"c2\",\"\")\n",
      "c2.Divide(2)\n",
      "c2.cd(1)\n",
      "g1.Draw(\"COLZ\")\n",
      "c2.cd(2)\n",
      "g2.Draw(\"COLZ\")"
     ],
     "language": "python",
     "metadata": {},
     "outputs": [
      {
       "output_type": "stream",
       "stream": "stderr",
       "text": [
        "TCanvas::Constructor:0: RuntimeWarning: Deleting canvas with same name: c2\n"
       ]
      }
     ],
     "prompt_number": 16
    },
    {
     "cell_type": "code",
     "collapsed": false,
     "input": [
      "diff.Draw(\"LEGO\")"
     ],
     "language": "python",
     "metadata": {},
     "outputs": [
      {
       "ename": "NameError",
       "evalue": "name 'diff' is not defined",
       "output_type": "pyerr",
       "traceback": [
        "\u001b[0;31m---------------------------------------------------------------------------\u001b[0m\n\u001b[0;31mNameError\u001b[0m                                 Traceback (most recent call last)",
        "\u001b[0;32m<ipython-input-17-529e102ce89d>\u001b[0m in \u001b[0;36m<module>\u001b[0;34m()\u001b[0m\n\u001b[0;32m----> 1\u001b[0;31m \u001b[0mdiff\u001b[0m\u001b[0;34m.\u001b[0m\u001b[0mDraw\u001b[0m\u001b[0;34m(\u001b[0m\u001b[0;34m\"LEGO\"\u001b[0m\u001b[0;34m)\u001b[0m\u001b[0;34m\u001b[0m\u001b[0m\n\u001b[0m",
        "\u001b[0;31mNameError\u001b[0m: name 'diff' is not defined"
       ]
      }
     ],
     "prompt_number": 17
    },
    {
     "cell_type": "code",
     "collapsed": false,
     "input": [
      "graph.SetMaximum(0.5)\n",
      "graph.SetMinimum(-0.5)\n",
      "graph.Draw(\"COLZ\")"
     ],
     "language": "python",
     "metadata": {},
     "outputs": [
      {
       "ename": "NameError",
       "evalue": "name 'graph' is not defined",
       "output_type": "pyerr",
       "traceback": [
        "\u001b[0;31m---------------------------------------------------------------------------\u001b[0m\n\u001b[0;31mNameError\u001b[0m                                 Traceback (most recent call last)",
        "\u001b[0;32m<ipython-input-18-16caf1d885d3>\u001b[0m in \u001b[0;36m<module>\u001b[0;34m()\u001b[0m\n\u001b[0;32m----> 1\u001b[0;31m \u001b[0mgraph\u001b[0m\u001b[0;34m.\u001b[0m\u001b[0mSetMaximum\u001b[0m\u001b[0;34m(\u001b[0m\u001b[0;36m0.5\u001b[0m\u001b[0;34m)\u001b[0m\u001b[0;34m\u001b[0m\u001b[0m\n\u001b[0m\u001b[1;32m      2\u001b[0m \u001b[0mgraph\u001b[0m\u001b[0;34m.\u001b[0m\u001b[0mSetMinimum\u001b[0m\u001b[0;34m(\u001b[0m\u001b[0;34m-\u001b[0m\u001b[0;36m0.5\u001b[0m\u001b[0;34m)\u001b[0m\u001b[0;34m\u001b[0m\u001b[0m\n\u001b[1;32m      3\u001b[0m \u001b[0mgraph\u001b[0m\u001b[0;34m.\u001b[0m\u001b[0mDraw\u001b[0m\u001b[0;34m(\u001b[0m\u001b[0;34m\"COLZ\"\u001b[0m\u001b[0;34m)\u001b[0m\u001b[0;34m\u001b[0m\u001b[0m\n",
        "\u001b[0;31mNameError\u001b[0m: name 'graph' is not defined"
       ]
      }
     ],
     "prompt_number": 18
    },
    {
     "cell_type": "code",
     "collapsed": false,
     "input": [],
     "language": "python",
     "metadata": {},
     "outputs": [],
     "prompt_number": 34
    },
    {
     "cell_type": "code",
     "collapsed": false,
     "input": [
      "fit450.Draw(\"COLZ\")\n"
     ],
     "language": "python",
     "metadata": {},
     "outputs": [],
     "prompt_number": 29
    },
    {
     "cell_type": "code",
     "collapsed": false,
     "input": [],
     "language": "python",
     "metadata": {},
     "outputs": [],
     "prompt_number": 29
    },
    {
     "cell_type": "code",
     "collapsed": false,
     "input": [],
     "language": "python",
     "metadata": {},
     "outputs": []
    }
   ],
   "metadata": {}
  }
 ]
}