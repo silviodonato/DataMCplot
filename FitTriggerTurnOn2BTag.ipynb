{
 "metadata": {
  "name": "",
  "signature": "sha256:218fcff791ed038fac3a6027ccadc6481013e7f8fbf1dc3d258e875523109e3d"
 },
 "nbformat": 3,
 "nbformat_minor": 0,
 "worksheets": [
  {
   "cells": [
    {
     "cell_type": "code",
     "collapsed": false,
     "input": [
      "import ROOT,copy\n",
      "ROOT.gStyle.SetOptStat(0)\n",
      "'''\n",
      "HLT_BIT_HLT_PFHT450_SixJet40_v\n",
      "HLT_BIT_HLT_PFHT400_SixJet30_v\n",
      "HLT_BIT_HLT_PFHT450_SixJet40_BTagCSV_p056_v\n",
      "HLT_BIT_HLT_PFHT400_SixJet30_DoubleBTagCSV_p056_v\n",
      "'''"
     ],
     "language": "python",
     "metadata": {},
     "outputs": [
      {
       "metadata": {},
       "output_type": "pyout",
       "prompt_number": 36,
       "text": [
        "'\\nHLT_BIT_HLT_PFHT450_SixJet40_v\\nHLT_BIT_HLT_PFHT400_SixJet30_v\\nHLT_BIT_HLT_PFHT450_SixJet40_BTagCSV_p056_v\\nHLT_BIT_HLT_PFHT400_SixJet30_DoubleBTagCSV_p056_v\\n'"
       ]
      }
     ],
     "prompt_number": 36
    },
    {
     "cell_type": "code",
     "collapsed": false,
     "input": [
      "file_ = ROOT.TFile(\"Oct19/Oct19-__JetHT.root\")\n",
      "tree = file_.Get(\"tree\")"
     ],
     "language": "python",
     "metadata": {},
     "outputs": [],
     "prompt_number": 37
    },
    {
     "cell_type": "code",
     "collapsed": false,
     "input": [
      "xnb, xmin, xmax = 50,0,1\n",
      "ynb, ymin, ymax = 50,0,1\n",
      "#const = ROOT.TF2(\"const\",\"0\", ymin, ymax, xmin, xmax)"
     ],
     "language": "python",
     "metadata": {},
     "outputs": [],
     "prompt_number": 38
    },
    {
     "cell_type": "code",
     "collapsed": false,
     "input": [
      "tree.Draw(\"Max$(jets_btagCSV):MaxIf$(jets_btagCSV,jets_btagCSV!=Max$(jets_btagCSV)) >> den(%s,%s,%s,%s,%s,%s)\"%(ynb, ymin, ymax,xnb, xmin, xmax),\"(HLT_BIT_HLT_PFHT400_SixJet30_v)&&is_fh\",\"goff\")\n",
      "den = ROOT.gDirectory.Get(\"den\").Clone(\"den\")\n",
      "#den.Add(const)\n",
      "den.Draw(\"COLZ\")"
     ],
     "language": "python",
     "metadata": {},
     "outputs": [],
     "prompt_number": 39
    },
    {
     "cell_type": "code",
     "collapsed": false,
     "input": [
      "tree.Draw(\"Max$(jets_btagCSV):MaxIf$(jets_btagCSV,jets_btagCSV!=Max$(jets_btagCSV)) >> PFHT400(%s,%s,%s,%s,%s,%s)\"%(ynb, ymin, ymax,xnb, xmin, xmax),\"(HLT_BIT_HLT_PFHT400_SixJet30_DoubleBTagCSV_p056_v)&&(HLT_BIT_HLT_PFHT400_SixJet30_v)&&is_fh\",\"goff\")\n",
      "PFHT400 = ROOT.gDirectory.Get(\"PFHT400\").Clone(\"PFHT400\")\n",
      "PFHT400.Draw(\"COLZ\")"
     ],
     "language": "python",
     "metadata": {},
     "outputs": [],
     "prompt_number": 40
    },
    {
     "cell_type": "code",
     "collapsed": false,
     "input": [
      "PFHT400.Sumw2()\n",
      "PFHT400_ratio = den.Clone(\"PFHT400\")\n",
      "PFHT400_ratio.Divide(PFHT400,den,1,1,\"cl=0.683 b(1,1) mode\")\n",
      "PFHT400_ratio.Draw(\"COLZ\")"
     ],
     "language": "python",
     "metadata": {},
     "outputs": [],
     "prompt_number": 41
    },
    {
     "cell_type": "code",
     "collapsed": false,
     "input": [
      "fit400 = ROOT.TF2(\"fit400\",\"[0]+([1]*x+[2]*x**2)*([3]*y+[4]*y**2)\",ymin,ymax,xmin,xmax)\n",
      "fit400.SetParameters(0,1,0,1,0)\n",
      "PFHT400_ratio.Fit(fit400)\n",
      "fit400.GetExpFormula(\"P\")"
     ],
     "language": "python",
     "metadata": {},
     "outputs": [
      {
       "metadata": {},
       "output_type": "pyout",
       "prompt_number": 42,
       "text": [
        "'0.0139833+(0.67634*x+0.594274*pow(x,2))*(0.0355172*y+0.727569*pow(y,2))'"
       ]
      }
     ],
     "prompt_number": 42
    },
    {
     "cell_type": "code",
     "collapsed": false,
     "input": [
      "c1 = ROOT.TCanvas(\"c1\",\"\")\n",
      "PFHT400_ratio.SetMaximum(1.)\n",
      "PFHT400_ratio.SetMinimum(0.)\n",
      "PFHT400_ratio.Draw(\"COLZ\")\n",
      "c2 = ROOT.TCanvas(\"c2\",\"\")\n",
      "fit400.SetMaximum(1.)\n",
      "fit400.SetMinimum(0.)\n",
      "fit400.Draw(\"COLZ\")"
     ],
     "language": "python",
     "metadata": {},
     "outputs": [
      {
       "output_type": "stream",
       "stream": "stderr",
       "text": [
        "TCanvas::Constructor:0: RuntimeWarning: Deleting canvas with same name: c1\n",
        "TCanvas::Constructor:0: RuntimeWarning: Deleting canvas with same name: c2\n"
       ]
      }
     ],
     "prompt_number": 43
    },
    {
     "cell_type": "code",
     "collapsed": false,
     "input": [
      "def checkWeight(den,PFHT450,fit450,c1):\n",
      "    den_PFHT450weight = den.Clone(\"den_PFHT450weight\")\n",
      "    den_PFHT450weight.Multiply(fit450)\n",
      "    den_PFHT450weight.SetMaximum()\n",
      "\n",
      "    max_ = max(den_PFHT450weight.GetMaximum(),PFHT450.GetMaximum())\n",
      "    min_ = min(den_PFHT450weight.GetMinimum(),PFHT450.GetMinimum())\n",
      "    min_ = -0.00001\n",
      "    max_ = PFHT450.GetMaximum()\n",
      "\n",
      "    const = ROOT.TF2(\"const\",\"0.01\", ymin, ymax, xmin, xmax)\n",
      "\n",
      "    den_PFHT450weight.Add(const)\n",
      "    g1 = ROOT.TGraph2D(den_PFHT450weight)\n",
      "    g1.SetTitle(\"Reweighted\")\n",
      "    g1.SetMaximum(max_)\n",
      "    g1.SetMinimum(min_)\n",
      "\n",
      "    PFHT450.Add(const)\n",
      "    g2 = ROOT.TGraph2D(PFHT450)\n",
      "    g2.SetTitle(\"Triggered\")\n",
      "    g2.SetMaximum(max_)\n",
      "    g2.SetMinimum(min_)\n",
      "    return copy.copy(g1),copy.copy(g2)\n"
     ],
     "language": "python",
     "metadata": {},
     "outputs": [],
     "prompt_number": 48
    },
    {
     "cell_type": "code",
     "collapsed": false,
     "input": [
      "g1,g2 = checkWeight(den,PFHT400,fit400,c1)\n",
      "c2 = ROOT.TCanvas(\"c2\",\"\")\n",
      "c2.Divide(2)\n",
      "c2.cd(1)\n",
      "g1.Draw(\"COLZ\")\n",
      "c2.cd(2)\n",
      "g2.Draw(\"COLZ\")"
     ],
     "language": "python",
     "metadata": {},
     "outputs": [
      {
       "output_type": "stream",
       "stream": "stderr",
       "text": [
        "TCanvas::Constructor:0: RuntimeWarning: Deleting canvas with same name: c2\n"
       ]
      }
     ],
     "prompt_number": 49
    },
    {
     "cell_type": "code",
     "collapsed": false,
     "input": [],
     "language": "python",
     "metadata": {},
     "outputs": [],
     "prompt_number": 33
    },
    {
     "cell_type": "code",
     "collapsed": false,
     "input": [],
     "language": "python",
     "metadata": {},
     "outputs": [],
     "prompt_number": 33
    },
    {
     "cell_type": "code",
     "collapsed": false,
     "input": [],
     "language": "python",
     "metadata": {},
     "outputs": []
    }
   ],
   "metadata": {}
  }
 ]
}