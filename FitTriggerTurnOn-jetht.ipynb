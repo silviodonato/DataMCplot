{
 "metadata": {
  "name": "",
  "signature": "sha256:5293cd6a7ae4e6e73d342f5f0d7bf8d87373ad8a7c217fbdfc70b9660beec6de"
 },
 "nbformat": 3,
 "nbformat_minor": 0,
 "worksheets": [
  {
   "cells": [
    {
     "cell_type": "code",
     "collapsed": false,
     "input": [
      "import ROOT, copy\n",
      "ROOT.gStyle.SetOptStat(0)\n",
      "ROOT.gROOT.SetBatch(0)\n",
      "\n",
      "'''\n",
      "HLT_BIT_HLT_PFHT450_SixJet40_v\n",
      "HLT_BIT_HLT_PFHT400_SixJet30_v\n",
      "HLT_BIT_HLT_PFHT450_SixJet40_BTagCSV_p056_v\n",
      "HLT_BIT_HLT_PFHT400_SixJet30_DoubleBTagCSV_p056_v\n",
      "'''"
     ],
     "language": "python",
     "metadata": {},
     "outputs": [
      {
       "metadata": {},
       "output_type": "pyout",
       "prompt_number": 1,
       "text": [
        "'\\nHLT_BIT_HLT_PFHT450_SixJet40_v\\nHLT_BIT_HLT_PFHT400_SixJet30_v\\nHLT_BIT_HLT_PFHT450_SixJet40_BTagCSV_p056_v\\nHLT_BIT_HLT_PFHT400_SixJet30_DoubleBTagCSV_p056_v\\n'"
       ]
      }
     ],
     "prompt_number": 1
    },
    {
     "cell_type": "code",
     "collapsed": false,
     "input": [
      "c1 = ROOT.TCanvas()"
     ],
     "language": "python",
     "metadata": {},
     "outputs": [],
     "prompt_number": 2
    },
    {
     "cell_type": "code",
     "collapsed": false,
     "input": [
      "file_ = ROOT.TFile(\"Nov3/Oct19-__JetHT.root\")\n",
      "#file_ = ROOT.TFile(\"Nov3_lept/Oct19-__SingleElectron.root\")\n",
      "tree = file_.Get(\"tree\")"
     ],
     "language": "python",
     "metadata": {},
     "outputs": [],
     "prompt_number": 3
    },
    {
     "cell_type": "code",
     "collapsed": false,
     "input": [
      "#denTrigger = \"(HLT_BIT_HLT_Ele27_eta2p1_WPLoose_Gsf_v)&&is_sl&&(leps_pt[0]<999)&& Sum$(jets_pt>0)>=6 && run<276811\"\n",
      "#denTrigger = \"(HLT_BIT_HLT_PFJet80_v)&&is_fh && run<276811\"\n",
      "#denTrigger = \"(HLT_BIT_HLT_PFJet40_v||HLT_BIT_HLT_PFJet60_v||HLT_BIT_HLT_PFJet80_v||HLT_BIT_HLT_PFJet140_v||HLT_BIT_HLT_PFJet200_v||HLT_BIT_HLT_PFJet260_v||HLT_BIT_HLT_PFJet320_v||HLT_BIT_HLT_PFJet400_v||HLT_BIT_HLT_PFJet450_v)&&is_fh && run<276811\"\n",
      "#denTrigger = \"(HLT_BIT_HLT_PFJet40_v||HLT_BIT_HLT_PFJet60_v||HLT_BIT_HLT_PFJet80_v)&&is_fh && run<276811\"\n",
      "#denTrigger = \"(HLT_BIT_HLT_PFJet40_v)&&is_fh && run<276811\"\n",
      "#denTrigger = \"(HLT_BIT_HLT_DiPFJetAve40_v||HLT_BIT_HLT_DiPFJetAve60_v)&&is_fh && run<276811\"\n",
      "#denTrigger = \"(HLT_BIT_HLT_DiPFJetAve40_v||HLT_BIT_HLT_DiPFJetAve60_v||HLT_BIT_HLT_PFJet40_v||HLT_BIT_HLT_PFJet60_v)&&is_fh && run<276811\"\n",
      "#denTrigger = \"(HLT_BIT_HLT_DiPFJetAve40_v||HLT_BIT_HLT_DiPFJetAve60_v||HLT_BIT_HLT_DiPFJetAve80_v||HLT_BIT_HLT_PFJet40_v||HLT_BIT_HLT_PFJet60_v||HLT_BIT_HLT_PFJet80_v)&&is_fh && run<276811\"\n",
      "#denTrigger = \"(HLT_BIT_HLT_DiPFJetAve40_v||HLT_BIT_HLT_DiPFJetAve60_v||HLT_BIT_HLT_DiPFJetAve80_v||HLT_BIT_HLT_DiPFJetAve140_v||HLT_BIT_HLT_PFJet40_v||HLT_BIT_HLT_PFJet60_v||HLT_BIT_HLT_PFJet80_v||HLT_BIT_HLT_PFJet140_v)&&is_fh && run<276811\"\n",
      "#denTrigger = \"(HLT_BIT_HLT_PFJet40_v||HLT_BIT_HLT_PFJet60_v||HLT_BIT_HLT_PFJet80_v||HLT_BIT_HLT_PFJet140_v)&&is_fh && run<276811\"\n",
      "#denTrigger = \"(HLT_BIT_HLT_PFJet140_v)&&is_fh && run<276811\"\n",
      "#denTrigger = \"(HLT_BIT_HLT_PFJet80_v)&&is_fh && run<276811\"\n",
      "#denTrigger = \"(HLT_BIT_HLT_L1_TripleJet_VBF_v)&&is_fh && run<276811\"\n",
      "#denTrigger = \"(HLT_BIT_HLT_PFJet450_v)&&is_fh && run<276811\"\n",
      "#denTrigger = \"(HLT_BIT_HLT_DiPFJetAve320_v)&&is_fh && run<276811\"\n",
      "#denTrigger = \"(HLT_BIT_HLT_PFJet40_v||HLT_BIT_HLT_PFJet60_v||HLT_BIT_HLT_PFJet80_v||HLT_BIT_HLT_PFJet140_v||HLT_BIT_HLT_PFJet200_v||HLT_BIT_HLT_PFJet260_v||HLT_BIT_HLT_PFJet320_v||HLT_BIT_HLT_PFJet400_v||HLT_BIT_HLT_PFJet450_v)&&is_fh && run<276811\"\n",
      "#denTrigger = \"(HLT_BIT_HLT_DiPFJetAve40_v||HLT_BIT_HLT_DiPFJetAve60_v||HLT_BIT_HLT_DiPFJetAve80_v||HLT_BIT_HLT_DiPFJetAve140_v||HLT_BIT_HLT_PFJet40_v||HLT_BIT_HLT_PFJet60_v||HLT_BIT_HLT_PFJet80_v||HLT_BIT_HLT_PFJet140_v||HLT_BIT_HLT_PFJet200_v||HLT_BIT_HLT_PFJet260_v||HLT_BIT_HLT_PFJet320_v)&&is_fh && run<276811\"\n",
      "#denTrigger = \"(HLT_BIT_HLT_PFJet40_v||HLT_BIT_HLT_PFJet60_v||HLT_BIT_HLT_PFJet80_v||HLT_BIT_HLT_PFJet140_v||HLT_BIT_HLT_PFJet200_v||HLT_BIT_HLT_PFJet260_v||HLT_BIT_HLT_PFJet320_v||HLT_BIT_HLT_PFJet400_v||HLT_BIT_HLT_PFJet450_v)&&is_fh && run<276811\"\n",
      "denTrigger = \"(HLT_BIT_HLT_L1_TripleJet_VBF_v)&&is_fh && run<276811\"\n",
      "denTrigger = \"(HLT_BIT_HLT_L1_TripleJet_VBF_v||HLT_BIT_HLT_PFJet40_v||HLT_BIT_HLT_PFJet60_v||HLT_BIT_HLT_PFJet80_v||HLT_BIT_HLT_PFJet140_v||HLT_BIT_HLT_PFJet200_v||HLT_BIT_HLT_PFJet260_v||HLT_BIT_HLT_PFJet320_v||HLT_BIT_HLT_PFJet400_v||HLT_BIT_HLT_PFJet450_v)&&is_fh && run<276811\"\n",
      "denTrigger = \"(HLT_BIT_HLT_PFJet40_v||HLT_BIT_HLT_PFJet60_v||HLT_BIT_HLT_PFJet80_v||HLT_BIT_HLT_PFJet140_v||HLT_BIT_HLT_PFJet200_v||HLT_BIT_HLT_PFJet260_v||HLT_BIT_HLT_PFJet320_v||HLT_BIT_HLT_PFJet400_v||HLT_BIT_HLT_PFJet450_v)&&is_fh && run<276811\"\n",
      "denTrigger = \"(HLT_BIT_HLT_PFJet40_v||HLT_BIT_HLT_PFJet60_v||HLT_BIT_HLT_PFJet80_v||HLT_BIT_HLT_PFJet140_v||HLT_BIT_HLT_PFJet200_v||HLT_BIT_HLT_PFJet260_v||HLT_BIT_HLT_PFJet320_v)&&is_fh && run<276811\"\n",
      "denTrigger = \"(HLT_BIT_HLT_L1_TripleJet_VBF_v||HLT_BIT_HLT_PFJet40_v||HLT_BIT_HLT_PFJet60_v||HLT_BIT_HLT_PFJet80_v||HLT_BIT_HLT_PFJet140_v||HLT_BIT_HLT_PFJet200_v||HLT_BIT_HLT_PFJet260_v||HLT_BIT_HLT_PFJet320_v)&&is_fh && run<276811\"\n",
      "#denTrigger = \"(HLT_BIT_HLT_PFJet260_v)&&is_fh && run<276811\"\n",
      "\n",
      "#\n",
      "\n",
      "#denTrigger = \"(HLT_BIT_HLT_IsoMu22_v||HLT_BIT_HLT_IsoTkMu22_v)&&is_sl&&leps_pt[0]<40 && abs(leps_pdgId[0])==13 && Sum$(jets_pt>0)>=6 && run<276811\""
     ],
     "language": "python",
     "metadata": {},
     "outputs": [],
     "prompt_number": 4
    },
    {
     "cell_type": "code",
     "collapsed": false,
     "input": [
      "#xnb, xmin, xmax = 20,300,800\n",
      "#ynb, ymin, ymax = 30,30,60\n",
      "#xnb, xmin, xmax = 80,0,2000\n",
      "#ynb, ymin, ymax = 100,0,100\n",
      "xnb, xmin, xmax = 80,0,1000\n",
      "ynb, ymin, ymax = 80,0,80\n",
      "xnb, xmin, xmax = 200,0,2000\n",
      "ynb, ymin, ymax = 120,0,120\n",
      "#const = ROOT.TF2(\"const\",\"0\", ymin, ymax, xmin, xmax)"
     ],
     "language": "python",
     "metadata": {},
     "outputs": [],
     "prompt_number": 5
    },
    {
     "cell_type": "code",
     "collapsed": false,
     "input": [
      "tree.Draw(\"min(ht,%s):min(Alt$(jets_pt[5],0),%s) >> den400(%s,%s,%s,%s,%s,%s)\"%(xmax-1,ymax-1,ynb, ymin, ymax, xnb, xmin, xmax),\"%s\"%denTrigger,\"goff\")\n",
      "den400 = ROOT.gDirectory.Get(\"den400\").Clone(\"den400\")\n",
      "#den.Multiply(const)\n",
      "den400.Draw(\"COLZ\")"
     ],
     "language": "python",
     "metadata": {},
     "outputs": [],
     "prompt_number": 6
    },
    {
     "cell_type": "code",
     "collapsed": false,
     "input": [
      "PFHT400 = \"HLT_BIT_HLT_PFHT400_SixJet30_v\"\n",
      "tree.Draw(\"min(ht,%s):min(Alt$(jets_pt[5],0),%s) >> PFHT400(%s,%s,%s,%s,%s,%s)\"%(xmax-1,ymax-1,ynb, ymin, ymax, xnb, xmin, xmax),\"%s&&HLT_BIT_HLT_PFHT400_SixJet30_v\"%denTrigger,\"goff\")\n",
      "PFHT400 = ROOT.gDirectory.Get(\"PFHT400\").Clone(\"PFHT400\")\n",
      "#PFHT400.Add(const)\n",
      "PFHT400.Draw(\"COLZ\")"
     ],
     "language": "python",
     "metadata": {},
     "outputs": [],
     "prompt_number": 7
    },
    {
     "cell_type": "code",
     "collapsed": false,
     "input": [
      "tree.Draw(\"min(Sum$(jets_pt*(jets_pt>40)),%s):min(Alt$(jets_pt[5],0),%s) >> den450(%s,%s,%s,%s,%s,%s)\"%(xmax-1,ymax-1,ynb, ymin, ymax, xnb, xmin, xmax),\"%s\"%denTrigger,\"goff\")\n",
      "den450 = ROOT.gDirectory.Get(\"den450\").Clone(\"den450\")\n",
      "#den.Multiply(const)\n",
      "den450.Draw(\"COLZ\")"
     ],
     "language": "python",
     "metadata": {},
     "outputs": [],
     "prompt_number": 8
    },
    {
     "cell_type": "code",
     "collapsed": false,
     "input": [
      "PFHT450 = \"HLT_BIT_HLT_PFHT400_SixJet30_v\"\n",
      "tree.Draw(\"min(Sum$(jets_pt*(jets_pt>40)),%s):min(Alt$(jets_pt[5],0),%s) >> PFHT450(%s,%s,%s,%s,%s,%s)\"%(xmax-1,ymax-1,ynb, ymin, ymax, xnb, xmin, xmax),\"%s&&HLT_BIT_HLT_PFHT450_SixJet40_v\"%denTrigger,\"goff\")\n",
      "PFHT450 = ROOT.gDirectory.Get(\"PFHT450\").Clone(\"PFHT450\")\n",
      "#PFHT450.Add(const)\n",
      "PFHT450.Draw(\"COLZ\")"
     ],
     "language": "python",
     "metadata": {},
     "outputs": [],
     "prompt_number": 9
    },
    {
     "cell_type": "code",
     "collapsed": false,
     "input": [
      "PFHT450.Sumw2()\n",
      "PFHT450_ratio = den450.Clone(\"PFHT450\")\n",
      "PFHT450_ratio.Divide(PFHT450,den450,1,1,\"cl=0.683 b(1,1) mode\")\n",
      "PFHT450_ratio.Draw(\"COLZ\")"
     ],
     "language": "python",
     "metadata": {},
     "outputs": [],
     "prompt_number": 10
    },
    {
     "cell_type": "code",
     "collapsed": false,
     "input": [
      "fit450 = ROOT.TF2(\"fit450\",\"[5]+[4]*0.25*(1.+erf( (x-[0])/[1]))*(1+erf( (y-[2])/[3]))\",ymin,ymax,xmin,xmax)\n",
      "fit450.SetParLimits(0,0,60)\n",
      "fit450.SetParLimits(1,1,50)\n",
      "fit450.SetParLimits(2,200,600)\n",
      "fit450.SetParLimits(3,1,150)\n",
      "fit450.SetParLimits(4,0,2)\n",
      "fit450.SetParLimits(5,-1,1)\n",
      "fit450.SetParLimits(6,0,2)\n",
      "fit450.SetParameters(40.35,9.14,430,75.5,+0.74,-0.13)\n",
      "\n",
      "#fit450.SetParameter(4,1)\n",
      "PFHT450_ratio.Fit(fit450)\n",
      "fit450.GetExpFormula(\"P\")"
     ],
     "language": "python",
     "metadata": {},
     "outputs": [
      {
       "metadata": {},
       "output_type": "pyout",
       "prompt_number": 11,
       "text": [
        "'0.0183759+0.698898*0.25*(1.+erf((x-42.4901)/8.17063))*(1+erf((y-459.777)/44.0002))'"
       ]
      }
     ],
     "prompt_number": 11
    },
    {
     "cell_type": "code",
     "collapsed": false,
     "input": [
      "c1 = ROOT.TCanvas(\"c1\",\"\")\n",
      "PFHT450_ratio.SetMaximum(1.)\n",
      "PFHT450_ratio.SetMinimum(0.)\n",
      "PFHT450_ratio.Draw(\"COLZ\")\n",
      "c2 = ROOT.TCanvas(\"c2\",\"\")\n",
      "fit450.SetMaximum(1.)\n",
      "fit450.SetMinimum(0.)\n",
      "fit450.Draw(\"COLZ\")"
     ],
     "language": "python",
     "metadata": {},
     "outputs": [
      {
       "output_type": "stream",
       "stream": "stderr",
       "text": [
        "TCanvas::Constructor:0: RuntimeWarning: Deleting canvas with same name: c1\n"
       ]
      }
     ],
     "prompt_number": 12
    },
    {
     "cell_type": "code",
     "collapsed": false,
     "input": [
      "PFHT400.Sumw2()\n",
      "den400.Sumw2()\n",
      "PFHT400_ratio = den400.Clone(\"PFHT400\")\n",
      "PFHT400_ratio.Divide(PFHT400,den400,1,1,\"cl=0.683 b(1,1) mode\")\n",
      "PFHT400_ratio.Draw(\"COLZ\")"
     ],
     "language": "python",
     "metadata": {},
     "outputs": [],
     "prompt_number": 13
    },
    {
     "cell_type": "code",
     "collapsed": false,
     "input": [
      "fit400 = fit450.Clone(\"fit400\")\n",
      "#fit400.SetParameters(30,3,350,30,1,1)\n",
      "PFHT400_ratio.Fit(fit400)\n",
      "fit400.GetExpFormula(\"P\")"
     ],
     "language": "python",
     "metadata": {},
     "outputs": [
      {
       "metadata": {},
       "output_type": "pyout",
       "prompt_number": 14,
       "text": [
        "'0.0249284+0.316144*0.25*(1.+erf((x-25.0156)/14.8097))*(1+erf((y-423.709)/42.8797))'"
       ]
      }
     ],
     "prompt_number": 14
    },
    {
     "cell_type": "code",
     "collapsed": false,
     "input": [
      "c1 = ROOT.TCanvas(\"c1\",\"\")\n",
      "PFHT400_ratio.SetMaximum(1.)\n",
      "PFHT400_ratio.SetMinimum(0.)\n",
      "PFHT400_ratio.Draw(\"COLZ\")\n",
      "c2 = ROOT.TCanvas(\"c2\",\"\")\n",
      "fit400.SetMaximum(1.)\n",
      "fit400.SetMinimum(0.)\n",
      "fit400.Draw(\"COLZ\")"
     ],
     "language": "python",
     "metadata": {},
     "outputs": [
      {
       "output_type": "stream",
       "stream": "stderr",
       "text": [
        "TCanvas::Constructor:0: RuntimeWarning: Deleting canvas with same name: c1\n",
        "TCanvas::Constructor:0: RuntimeWarning: Deleting canvas with same name: c2\n"
       ]
      }
     ],
     "prompt_number": 15
    },
    {
     "cell_type": "code",
     "collapsed": false,
     "input": [
      "def checkWeight(den,PFHT,fit):\n",
      "    den_PFHTweight = den.Clone(\"den_PFHTweight\")\n",
      "    den_PFHTweight.Multiply(fit)\n",
      "    den_PFHTweight.Paint()\n",
      "\n",
      "    max_ = max(den_PFHTweight.GetMaximum(),PFHT.GetMaximum())\n",
      "    min_ = min(den_PFHTweight.GetMinimum(),PFHT.GetMinimum())\n",
      "    min_ = -0.00001\n",
      "\n",
      "    const = ROOT.TF2(\"const\",\"0.01\", ymin, ymax, xmin, xmax)\n",
      "\n",
      "    den_PFHTweight.Add(const)\n",
      "#    g1 = ROOT.TGraph2D(den_PFHTweight)\n",
      "    g1 = den_PFHTweight\n",
      "    g1.SetTitle(\"Reweighted\")\n",
      "    g1.SetMaximum(max_)\n",
      "    g1.SetMinimum(min_)\n",
      "\n",
      "    PFHT.Add(const)\n",
      " #   g2 = ROOT.TGraph2D(PFHT)\n",
      "    g2 = PFHT\n",
      "    g2.SetTitle(\"Triggered\")\n",
      "    g2.SetMaximum(max_)\n",
      "    g2.SetMinimum(min_)\n",
      "    return copy.copy(g1),copy.copy(g2)\n"
     ],
     "language": "python",
     "metadata": {},
     "outputs": [],
     "prompt_number": 86
    },
    {
     "cell_type": "code",
     "collapsed": false,
     "input": [
      "def check1D(den,PFHT450,fit450):\n",
      "    den_PFHT450weight = den.Clone(\"den_PFHT450weight\")\n",
      "    den_PFHT450weight.Multiply(fit450)\n",
      "\n",
      "    max_ = max(den_PFHT450weight.GetMaximum(),PFHT450.GetMaximum())\n",
      "    min_ = min(den_PFHT450weight.GetMinimum(),PFHT450.GetMinimum())\n",
      "    min_ = -0.00001\n",
      "\n",
      "    const = ROOT.TF2(\"const\",\"0.01\", ymin, ymax, xmin, xmax)\n",
      "\n",
      "    denX =den.ProjectionX()\n",
      "    weightX = den_PFHT450weight.ProjectionX()\n",
      "    numX = PFHT450.ProjectionX()\n",
      "\n",
      "    denX.SetLineColor(ROOT.kBlack)\n",
      "    weightX.SetLineColor(ROOT.kRed)\n",
      "    numX.SetLineColor(ROOT.kBlue)\n",
      "\n",
      "    return denX,weightX,numX"
     ],
     "language": "python",
     "metadata": {},
     "outputs": [],
     "prompt_number": 87
    },
    {
     "cell_type": "code",
     "collapsed": false,
     "input": [
      "g1,g2,g3 = check1D(den450,PFHT450,fit450)\n",
      "c5 = ROOT.TCanvas(\"c5\",\"\")\n",
      "g1.Draw(\"\")\n",
      "g2.Draw(\"same\")\n",
      "g3.Draw(\"same\")"
     ],
     "language": "python",
     "metadata": {},
     "outputs": [
      {
       "output_type": "stream",
       "stream": "stderr",
       "text": [
        "TCanvas::Constructor:0: RuntimeWarning: Deleting canvas with same name: c5\n"
       ]
      }
     ],
     "prompt_number": 88
    },
    {
     "cell_type": "code",
     "collapsed": false,
     "input": [
      "g1,g2 = checkWeight(den400,PFHT400,fit400)\n",
      "c2 = ROOT.TCanvas(\"c2\",\"\")\n",
      "c2.Divide(2)\n",
      "c2.cd(1)\n",
      "g1.Draw(\"COLZ\")\n",
      "c2.cd(2)\n",
      "g2.Draw(\"COLZ\")\n",
      "cX = ROOT.TCanvas(\"cX\",\"\")\n",
      "\n",
      "g2.Draw(\"COLZ\")\n",
      "cX.Update()\n",
      "cX.Modified()\n",
      "cX.SaveAs(\"PFHT400_triggered.png\")\n",
      "\n",
      "print g2.GetBinContent(g2.FindBin(41,800))\n",
      "print g1.GetBinContent(g2.FindBin(41,800))\n",
      "\n",
      "g1.Draw(\"COLZ\")\n",
      "cX.Update()\n",
      "cX.Modified()\n",
      "cX.SaveAs(\"PFHT400_weighted.png\")\n"
     ],
     "language": "python",
     "metadata": {},
     "outputs": [
      {
       "output_type": "stream",
       "stream": "stdout",
       "text": [
        "126.280059814\n",
        "133.012649536\n"
       ]
      },
      {
       "output_type": "stream",
       "stream": "stderr",
       "text": [
        "TCanvas::Constructor:0: RuntimeWarning: Deleting canvas with same name: c2\n",
        "TCanvas::Constructor:0: RuntimeWarning: Deleting canvas with same name: cX\n"
       ]
      }
     ],
     "prompt_number": 89
    },
    {
     "cell_type": "code",
     "collapsed": false,
     "input": [
      "c3 = ROOT.TCanvas(\"c3\",\"\")\n",
      "c3.Divide(2)\n",
      "c3.cd(1)\n",
      "PFHT450_ratio.Draw(\"COLZ\")\n",
      "c3.cd(2)\n",
      "fit450.Draw(\"COLZ\")"
     ],
     "language": "python",
     "metadata": {},
     "outputs": [],
     "prompt_number": 90
    },
    {
     "cell_type": "code",
     "collapsed": false,
     "input": [
      "c4 = ROOT.TCanvas(\"c4\",\"\")\n",
      "c4.Divide(2)\n",
      "c4.cd(1)\n",
      "PFHT400_ratio.Draw(\"COLZ\")\n",
      "c4.cd(2)\n",
      "fit400.Draw(\"COLZ\")"
     ],
     "language": "python",
     "metadata": {},
     "outputs": [],
     "prompt_number": 91
    },
    {
     "cell_type": "code",
     "collapsed": false,
     "input": [
      "g1,g2 = checkWeight(den450,PFHT450,fit450)\n",
      "c6 = ROOT.TCanvas(\"c6\",\"\")\n",
      "c6.Divide(2)\n",
      "c6.cd(1)\n",
      "g1.Draw(\"COLZ\")\n",
      "c6.cd(2)\n",
      "g2.Draw(\"COLZ\")\n",
      "cX = ROOT.TCanvas(\"cX\",\"\")\n",
      "\n",
      "g2.Draw(\"COLZ\")\n",
      "cX.Update()\n",
      "cX.Modified()\n",
      "cX.SaveAs(\"PFHT450_triggered.png\")\n",
      "\n",
      "g1.Draw(\"COLZ\")\n",
      "cX.Update()\n",
      "cX.Modified()\n",
      "cX.SaveAs(\"PFHT450_weighted.png\")\n"
     ],
     "language": "python",
     "metadata": {},
     "outputs": [
      {
       "output_type": "stream",
       "stream": "stderr",
       "text": [
        "TCanvas::Constructor:0: RuntimeWarning: Deleting canvas with same name: cX\n"
       ]
      }
     ],
     "prompt_number": 92
    },
    {
     "cell_type": "code",
     "collapsed": false,
     "input": [
      "c1.cd()"
     ],
     "language": "python",
     "metadata": {},
     "outputs": [
      {
       "metadata": {},
       "output_type": "pyout",
       "prompt_number": 33,
       "text": [
        "<ROOT.TCanvas object (\"c1\") at 0x87d01b0>"
       ]
      }
     ],
     "prompt_number": 33
    },
    {
     "cell_type": "code",
     "collapsed": false,
     "input": [
      "g_den = ROOT.TGraph2D(den400)\n",
      "g_den.Draw(\"COLZ\")"
     ],
     "language": "python",
     "metadata": {},
     "outputs": [],
     "prompt_number": 24
    },
    {
     "cell_type": "code",
     "collapsed": false,
     "input": [
      "den400.Draw(\"COLZ\")"
     ],
     "language": "python",
     "metadata": {},
     "outputs": [],
     "prompt_number": 25
    },
    {
     "cell_type": "code",
     "collapsed": false,
     "input": [
      "f400 = fit400.GetExpFormula(\"P\")\n",
      "f450 = fit450.GetExpFormula(\"P\")\n",
      "f400 = str(f400).replace(\"--\",\"+\")\n",
      "f450 = str(f450).replace(\"--\",\"+\")\n",
      "f400 = str(f400).replace(\"+-\",\"-\")\n",
      "f450 = str(f450).replace(\"+-\",\"-\")\n",
      "f400 = str(f400).replace(\"-+\",\"-\")\n",
      "f450 = str(f450).replace(\"-+\",\"-\")\n",
      "f450 = f450.replace(\"x\",\"pt6\")\n",
      "f450 = f450.replace(\"y\",\"ht\")\n",
      "f400 = f400.replace(\"x\",\"pt6\")\n",
      "f400 = f400.replace(\"y\",\"ht\")\n"
     ],
     "language": "python",
     "metadata": {},
     "outputs": [],
     "prompt_number": 26
    },
    {
     "cell_type": "code",
     "collapsed": false,
     "input": [
      "f450"
     ],
     "language": "python",
     "metadata": {},
     "outputs": [
      {
       "metadata": {},
       "output_type": "pyout",
       "prompt_number": 27,
       "text": [
        "'0.0183759+0.698898*0.25*(1.+erf((pt6-42.4901)/8.17063))*(1+erf((ht-459.777)/44.0002))'"
       ]
      }
     ],
     "prompt_number": 27
    },
    {
     "cell_type": "code",
     "collapsed": false,
     "input": [
      "print \"float trigger400(float ht, float pt6){\"\n",
      "print \"    float value = %s;\"%(f400)\n",
      "print \"    return between0and1(value);\"\n",
      "print \"}\"\n",
      "print \"\"\n",
      "print \"float trigger450(float ht, float pt6){\"\n",
      "print \"    float value = %s;\"%(f450)\n",
      "print \"    return between0and1(value);\"\n",
      "print \"}\""
     ],
     "language": "python",
     "metadata": {},
     "outputs": [
      {
       "output_type": "stream",
       "stream": "stdout",
       "text": [
        "float trigger400(float ht, float pt6){\n",
        "    float value = 0.0249284+0.316144*0.25*(1.+erf((pt6-25.0156)/14.8097))*(1+erf((ht-423.709)/42.8797));\n",
        "    return between0and1(value);\n",
        "}\n",
        "\n",
        "float trigger450(float ht, float pt6){\n",
        "    float value = 0.0183759+0.698898*0.25*(1.+erf((pt6-42.4901)/8.17063))*(1+erf((ht-459.777)/44.0002));\n",
        "    return between0and1(value);\n",
        "}\n"
       ]
      }
     ],
     "prompt_number": 28
    },
    {
     "cell_type": "code",
     "collapsed": false,
     "input": [],
     "language": "python",
     "metadata": {},
     "outputs": [],
     "prompt_number": 28
    },
    {
     "cell_type": "code",
     "collapsed": false,
     "input": [
      "c1.Update()\n",
      "c2.SaveAs(\"check400.png\")\n",
      "c3.Update()\n",
      "c3.SaveAs(\"checkfit450.png\")\n",
      "c4.Update()\n",
      "c4.SaveAs(\"checkfit400.png\")\n",
      "c5.Update()\n",
      "c5.SaveAs(\"check1D450.png\")\n",
      "c6.Update()\n",
      "c6.SaveAs(\"check450.png\")\n",
      "c7 = ROOT.TCanvas(\"c7\")\n",
      "\n",
      "den450.Draw(\"COLZ\")\n",
      "c7.Update()\n",
      "c7.SaveAs(\"den450.png\")\n",
      "\n",
      "PFHT450.Draw(\"COLZ\")\n",
      "c7.Update()\n",
      "c7.SaveAs(\"PFHT450.png\")\n",
      "\n",
      "PFHT450_ratio.Draw(\"COLZ\")\n",
      "c7.Update()\n",
      "c7.SaveAs(\"PFHT450_ratio.png\")\n",
      "\n",
      "PFHT400_ratio.Draw(\"COLZ\")\n",
      "c7.Update()\n",
      "c7.SaveAs(\"PFHT400_ratio.png\")\n",
      "\n",
      "den400.Draw(\"COLZ\")\n",
      "c7.Update()\n",
      "c7.Modified()\n",
      "c7.SaveAs(\"den400.png\")\n",
      "\n",
      "PFHT400.Draw(\"COLZ\")\n",
      "c7.Update()\n",
      "c7.SaveAs(\"PFHT400.png\")\n",
      "\n"
     ],
     "language": "python",
     "metadata": {},
     "outputs": [
      {
       "output_type": "stream",
       "stream": "stderr",
       "text": [
        "TCanvas::Constructor:0: RuntimeWarning: Deleting canvas with same name: c7\n"
       ]
      }
     ],
     "prompt_number": 41
    },
    {
     "cell_type": "code",
     "collapsed": false,
     "input": [
      "fit450.Draw(\"COLZ\")"
     ],
     "language": "python",
     "metadata": {},
     "outputs": [],
     "prompt_number": 39
    },
    {
     "cell_type": "code",
     "collapsed": false,
     "input": [
      "PFHT400.Draw(\"COLZ\")"
     ],
     "language": "python",
     "metadata": {},
     "outputs": [],
     "prompt_number": 54
    },
    {
     "cell_type": "code",
     "collapsed": false,
     "input": [
      "den.Draw(\"COLZ\")"
     ],
     "language": "python",
     "metadata": {},
     "outputs": [
      {
       "ename": "NameError",
       "evalue": "name 'den' is not defined",
       "output_type": "pyerr",
       "traceback": [
        "\u001b[0;31m---------------------------------------------------------------------------\u001b[0m\n\u001b[0;31mNameError\u001b[0m                                 Traceback (most recent call last)",
        "\u001b[0;32m<ipython-input-55-eaa680530cd6>\u001b[0m in \u001b[0;36m<module>\u001b[0;34m()\u001b[0m\n\u001b[0;32m----> 1\u001b[0;31m \u001b[0mden\u001b[0m\u001b[0;34m.\u001b[0m\u001b[0mDraw\u001b[0m\u001b[0;34m(\u001b[0m\u001b[0;34m\"COLZ\"\u001b[0m\u001b[0;34m)\u001b[0m\u001b[0;34m\u001b[0m\u001b[0m\n\u001b[0m",
        "\u001b[0;31mNameError\u001b[0m: name 'den' is not defined"
       ]
      }
     ],
     "prompt_number": 55
    },
    {
     "cell_type": "code",
     "collapsed": false,
     "input": [
      "tree.Draw(\"Alt$(jets_pt[5],0) >> den1D(%s,%s,%s)\"%(ynb, ymin, ymax),\"%s\"%denTrigger,\"goff\")\n",
      "den1D = ROOT.gDirectory.Get(\"den1D\").Clone(\"den1D\")\n",
      "#den.Multiply(const)\n"
     ],
     "language": "python",
     "metadata": {},
     "outputs": []
    },
    {
     "cell_type": "code",
     "collapsed": false,
     "input": [
      "tree.Draw(\"Alt$(jets_pt[5],0) >> PFHT4001D(%s,%s,%s)\"%(ynb, ymin, ymax),\"%s&&HLT_BIT_HLT_PFHT400_SixJet30_v\"%denTrigger,\"goff\")\n",
      "PFHT4001D = ROOT.gDirectory.Get(\"PFHT4001D\").Clone(\"PFHT4001D\")\n"
     ],
     "language": "python",
     "metadata": {},
     "outputs": [],
     "prompt_number": 131
    },
    {
     "cell_type": "code",
     "collapsed": false,
     "input": [
      "ROOT.gROOT.LoadMacro(\"functions.C\")"
     ],
     "language": "python",
     "metadata": {},
     "outputs": [
      {
       "metadata": {},
       "output_type": "pyout",
       "prompt_number": 132,
       "text": [
        "0"
       ]
      }
     ],
     "prompt_number": 132
    },
    {
     "cell_type": "code",
     "collapsed": false,
     "input": [
      "tree.Draw(\"Alt$(jets_pt[5],0) >> PFHT4001Dw(%s,%s,%s)\"%(ynb, ymin, ymax),\"(%s)*trigger400(ht, Alt$(jets_pt[5],0))\"%denTrigger,\"goff\")\n",
      "PFHT4001Dw = ROOT.gDirectory.Get(\"PFHT4001Dw\").Clone(\"PFHT4001Dw\")"
     ],
     "language": "python",
     "metadata": {},
     "outputs": [],
     "prompt_number": 133
    },
    {
     "cell_type": "code",
     "collapsed": false,
     "input": [
      "den1D.Draw(\"\")\n",
      "PFHT4001D.Draw(\"same\")\n",
      "PFHT4001D_w.Draw(\"same\")\n"
     ],
     "language": "python",
     "metadata": {},
     "outputs": [
      {
       "ename": "NameError",
       "evalue": "name 'PFHT4001D_w' is not defined",
       "output_type": "pyerr",
       "traceback": [
        "\u001b[0;31m---------------------------------------------------------------------------\u001b[0m\n\u001b[0;31mNameError\u001b[0m                                 Traceback (most recent call last)",
        "\u001b[0;32m<ipython-input-134-b6acc2a7c826>\u001b[0m in \u001b[0;36m<module>\u001b[0;34m()\u001b[0m\n\u001b[1;32m      1\u001b[0m \u001b[0mden1D\u001b[0m\u001b[0;34m.\u001b[0m\u001b[0mDraw\u001b[0m\u001b[0;34m(\u001b[0m\u001b[0;34m\"\"\u001b[0m\u001b[0;34m)\u001b[0m\u001b[0;34m\u001b[0m\u001b[0m\n\u001b[1;32m      2\u001b[0m \u001b[0mPFHT4001D\u001b[0m\u001b[0;34m.\u001b[0m\u001b[0mDraw\u001b[0m\u001b[0;34m(\u001b[0m\u001b[0;34m\"same\"\u001b[0m\u001b[0;34m)\u001b[0m\u001b[0;34m\u001b[0m\u001b[0m\n\u001b[0;32m----> 3\u001b[0;31m \u001b[0mPFHT4001D_w\u001b[0m\u001b[0;34m.\u001b[0m\u001b[0mDraw\u001b[0m\u001b[0;34m(\u001b[0m\u001b[0;34m\"same\"\u001b[0m\u001b[0;34m)\u001b[0m\u001b[0;34m\u001b[0m\u001b[0m\n\u001b[0m",
        "\u001b[0;31mNameError\u001b[0m: name 'PFHT4001D_w' is not defined"
       ]
      }
     ],
     "prompt_number": 134
    },
    {
     "cell_type": "code",
     "collapsed": false,
     "input": [],
     "language": "python",
     "metadata": {},
     "outputs": []
    },
    {
     "cell_type": "code",
     "collapsed": false,
     "input": [],
     "language": "python",
     "metadata": {},
     "outputs": []
    },
    {
     "cell_type": "code",
     "collapsed": false,
     "input": [],
     "language": "python",
     "metadata": {},
     "outputs": []
    },
    {
     "cell_type": "code",
     "collapsed": false,
     "input": [],
     "language": "python",
     "metadata": {},
     "outputs": []
    },
    {
     "cell_type": "code",
     "collapsed": false,
     "input": [
      "c1.Modified()\n",
      "c1.Update()"
     ],
     "language": "python",
     "metadata": {},
     "outputs": [],
     "prompt_number": 8
    },
    {
     "cell_type": "code",
     "collapsed": false,
     "input": [],
     "language": "python",
     "metadata": {},
     "outputs": []
    }
   ],
   "metadata": {}
  }
 ]
}