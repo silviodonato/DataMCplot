{
 "metadata": {
  "name": "",
  "signature": "sha256:34319e1694f15b139f4615b50d4b18e985871d7121b65f8cfb4204f993b4aa58"
 },
 "nbformat": 3,
 "nbformat_minor": 0,
 "worksheets": [
  {
   "cells": [
    {
     "cell_type": "code",
     "collapsed": false,
     "input": [
      "import ROOT, copy\n",
      "ROOT.gStyle.SetOptStat(0)\n",
      "'''\n",
      "HLT_BIT_HLT_PFHT450_SixJet40_v\n",
      "HLT_BIT_HLT_PFHT400_SixJet30_v\n",
      "HLT_BIT_HLT_PFHT450_SixJet40_BTagCSV_p056_v\n",
      "HLT_BIT_HLT_PFHT400_SixJet30_DoubleBTagCSV_p056_v\n",
      "'''"
     ],
     "language": "python",
     "metadata": {},
     "outputs": [
      {
       "metadata": {},
       "output_type": "pyout",
       "prompt_number": 1,
       "text": [
        "'\\nHLT_BIT_HLT_PFHT450_SixJet40_v\\nHLT_BIT_HLT_PFHT400_SixJet30_v\\nHLT_BIT_HLT_PFHT450_SixJet40_BTagCSV_p056_v\\nHLT_BIT_HLT_PFHT400_SixJet30_DoubleBTagCSV_p056_v\\n'"
       ]
      }
     ],
     "prompt_number": 1
    },
    {
     "cell_type": "code",
     "collapsed": false,
     "input": [
      "#file_ = ROOT.TFile(\"Nov3/Oct19-__JetHT.root\")\n",
      "#file_ = ROOT.TFile(\"Nov3_lept/Oct19-__SingleElectron.root\")\n",
      "file_ = ROOT.TFile(\"Nov3_lept/Oct19-__SingleMuon.root\")\n",
      "tree = file_.Get(\"tree\")"
     ],
     "language": "python",
     "metadata": {},
     "outputs": [],
     "prompt_number": 2
    },
    {
     "cell_type": "code",
     "collapsed": false,
     "input": [
      "#xnb, xmin, xmax = 20,300,800\n",
      "#ynb, ymin, ymax = 30,30,60\n",
      "#xnb, xmin, xmax = 80,0,2000\n",
      "#ynb, ymin, ymax = 100,0,100\n",
      "xnb, xmin, xmax = 80,0,1000\n",
      "ynb, ymin, ymax = 80,0,80\n",
      "xnb, xmin, xmax = 100,0,1000\n",
      "ynb, ymin, ymax = 120,0,120\n",
      "#const = ROOT.TF2(\"const\",\"0\", ymin, ymax, xmin, xmax)"
     ],
     "language": "python",
     "metadata": {},
     "outputs": [],
     "prompt_number": 3
    },
    {
     "cell_type": "code",
     "collapsed": false,
     "input": [
      "#denTrigger = \"(HLT_BIT_HLT_Ele27_eta2p1_WPLoose_Gsf_v)&&is_sl&&(leps_pt[0]<999)&& Sum$(jets_pt>0)>=6 && run<276811\"\n",
      "#denTrigger = \"(HLT_BIT_HLT_PFJet80_v)&&is_fh && run<276811\"\n",
      "#denTrigger = \"(HLT_BIT_HLT_PFJet40_v||HLT_BIT_HLT_PFJet60_v||HLT_BIT_HLT_PFJet80_v||HLT_BIT_HLT_PFJet140_v||HLT_BIT_HLT_PFJet200_v||HLT_BIT_HLT_PFJet260_v||HLT_BIT_HLT_PFJet320_v||HLT_BIT_HLT_PFJet400_v||HLT_BIT_HLT_PFJet450_v)&&is_fh && run<276811\"\n",
      "#denTrigger = \"(HLT_BIT_HLT_PFJet40_v||HLT_BIT_HLT_PFJet60_v||HLT_BIT_HLT_PFJet80_v)&&is_fh && run<276811\"\n",
      "#denTrigger = \"(HLT_BIT_HLT_PFJet40_v)&&is_fh && run<276811\"\n",
      "#denTrigger = \"(HLT_BIT_HLT_DiPFJetAve40_v||HLT_BIT_HLT_DiPFJetAve60_v)&&is_fh && run<276811\"\n",
      "#denTrigger = \"(HLT_BIT_HLT_DiPFJetAve40_v||HLT_BIT_HLT_DiPFJetAve60_v||HLT_BIT_HLT_PFJet40_v||HLT_BIT_HLT_PFJet60_v)&&is_fh && run<276811\"\n",
      "#denTrigger = \"(HLT_BIT_HLT_DiPFJetAve40_v||HLT_BIT_HLT_DiPFJetAve60_v||HLT_BIT_HLT_DiPFJetAve80_v||HLT_BIT_HLT_PFJet40_v||HLT_BIT_HLT_PFJet60_v||HLT_BIT_HLT_PFJet80_v)&&is_fh && run<276811\"\n",
      "#denTrigger = \"(HLT_BIT_HLT_DiPFJetAve40_v||HLT_BIT_HLT_DiPFJetAve60_v||HLT_BIT_HLT_DiPFJetAve80_v||HLT_BIT_HLT_DiPFJetAve140_v||HLT_BIT_HLT_PFJet40_v||HLT_BIT_HLT_PFJet60_v||HLT_BIT_HLT_PFJet80_v||HLT_BIT_HLT_PFJet140_v)&&is_fh && run<276811\"\n",
      "#denTrigger = \"(HLT_BIT_HLT_PFJet40_v||HLT_BIT_HLT_PFJet60_v||HLT_BIT_HLT_PFJet80_v||HLT_BIT_HLT_PFJet140_v)&&is_fh && run<276811\"\n",
      "#denTrigger = \"(HLT_BIT_HLT_PFJet140_v)&&is_fh && run<276811\"\n",
      "#denTrigger = \"(HLT_BIT_HLT_PFJet80_v)&&is_fh && run<276811\"\n",
      "#denTrigger = \"(HLT_BIT_HLT_L1_TripleJet_VBF_v)&&is_fh && run<276811\"\n",
      "#denTrigger = \"(HLT_BIT_HLT_PFJet450_v)&&is_fh && run<276811\"\n",
      "#denTrigger = \"(HLT_BIT_HLT_DiPFJetAve320_v)&&is_fh && run<276811\"\n",
      "#denTrigger = \"(HLT_BIT_HLT_PFJet40_v||HLT_BIT_HLT_PFJet60_v||HLT_BIT_HLT_PFJet80_v||HLT_BIT_HLT_PFJet140_v||HLT_BIT_HLT_PFJet200_v||HLT_BIT_HLT_PFJet260_v||HLT_BIT_HLT_PFJet320_v||HLT_BIT_HLT_PFJet400_v||HLT_BIT_HLT_PFJet450_v)&&is_fh && run<276811\"\n",
      "#denTrigger = \"(HLT_BIT_HLT_DiPFJetAve40_v||HLT_BIT_HLT_DiPFJetAve60_v||HLT_BIT_HLT_DiPFJetAve80_v||HLT_BIT_HLT_DiPFJetAve140_v||HLT_BIT_HLT_PFJet40_v||HLT_BIT_HLT_PFJet60_v||HLT_BIT_HLT_PFJet80_v||HLT_BIT_HLT_PFJet140_v||HLT_BIT_HLT_PFJet200_v||HLT_BIT_HLT_PFJet260_v||HLT_BIT_HLT_PFJet320_v)&&is_fh && run<276811\"\n",
      "#denTrigger = \"(HLT_BIT_HLT_PFJet40_v||HLT_BIT_HLT_PFJet60_v||HLT_BIT_HLT_PFJet80_v||HLT_BIT_HLT_PFJet140_v||HLT_BIT_HLT_PFJet200_v||HLT_BIT_HLT_PFJet260_v||HLT_BIT_HLT_PFJet320_v||HLT_BIT_HLT_PFJet400_v||HLT_BIT_HLT_PFJet450_v)&&is_fh && run<276811\"\n",
      "denTrigger = \"(HLT_BIT_HLT_IsoMu22_v||HLT_BIT_HLT_IsoTkMu22_v)&&is_sl && abs(leps_pdgId[0])==13 && Sum$(jets_pt>40)>=6 && run<276811\"\n",
      "#\n",
      "\n",
      "#denTrigger = \"(HLT_BIT_HLT_IsoMu22_v||HLT_BIT_HLT_IsoTkMu22_v)&&is_sl&&leps_pt[0]<40 && abs(leps_pdgId[0])==13 && Sum$(jets_pt>0)>=6 && run<276811\""
     ],
     "language": "python",
     "metadata": {},
     "outputs": [],
     "prompt_number": 4
    },
    {
     "cell_type": "code",
     "collapsed": false,
     "input": [
      "tree.Draw(\"min(ht,%s):min(Alt$(jets_pt[5],0),%s) >> den(%s,%s,%s,%s,%s,%s)\"%(xmax-1,ymax-1,ynb, ymin, ymax, xnb, xmin, xmax),\"%s\"%denTrigger,\"goff\")\n",
      "den = ROOT.gDirectory.Get(\"den\").Clone(\"den\")\n",
      "#den.Multiply(const)\n",
      "den.Draw(\"COLZ\")"
     ],
     "language": "python",
     "metadata": {},
     "outputs": [],
     "prompt_number": 5
    },
    {
     "cell_type": "code",
     "collapsed": false,
     "input": [
      "PFHT400 = \"HLT_BIT_HLT_PFHT400_SixJet30_v\"\n",
      "tree.Draw(\"min(ht,%s):min(Alt$(jets_pt[5],0),%s) >> PFHT400(%s,%s,%s,%s,%s,%s)\"%(xmax-1,ymax-1,ynb, ymin, ymax, xnb, xmin, xmax),\"%s&&HLT_BIT_HLT_PFHT400_SixJet30_v\"%denTrigger,\"goff\")\n",
      "PFHT400 = ROOT.gDirectory.Get(\"PFHT400\").Clone(\"PFHT400\")\n",
      "#PFHT400.Add(const)\n",
      "PFHT400.Draw(\"COLZ\")"
     ],
     "language": "python",
     "metadata": {},
     "outputs": [],
     "prompt_number": 6
    },
    {
     "cell_type": "code",
     "collapsed": false,
     "input": [
      "PFHT450 = \"HLT_BIT_HLT_PFHT400_SixJet30_v\"\n",
      "tree.Draw(\"min(ht,%s):min(Alt$(jets_pt[5],0),%s) >> PFHT450(%s,%s,%s,%s,%s,%s)\"%(xmax-1,ymax-1,ynb, ymin, ymax, xnb, xmin, xmax),\"%s&&HLT_BIT_HLT_PFHT450_SixJet40_v\"%denTrigger,\"goff\")\n",
      "PFHT450 = ROOT.gDirectory.Get(\"PFHT450\").Clone(\"PFHT450\")\n",
      "#PFHT450.Add(const)\n",
      "PFHT450.Draw(\"COLZ\")"
     ],
     "language": "python",
     "metadata": {},
     "outputs": [],
     "prompt_number": 7
    },
    {
     "cell_type": "code",
     "collapsed": false,
     "input": [
      "PFHT450.Sumw2()\n",
      "PFHT450_ratio = den.Clone(\"PFHT450\")\n",
      "PFHT450_ratio.Divide(PFHT450,den,1,1,\"cl=0.683 b(1,1) mode\")\n",
      "PFHT450_ratio.Draw(\"COLZ\")"
     ],
     "language": "python",
     "metadata": {},
     "outputs": [],
     "prompt_number": 8
    },
    {
     "cell_type": "code",
     "collapsed": false,
     "input": [
      "fit450 = ROOT.TF2(\"fit450\",\"[5]+[4]*0.25*(1.+erf( (x-[0])/[1]))*(1+erf( (y-[2])/[3]))\",ymin,ymax,xmin,xmax)\n",
      "fit450.SetParLimits(0,0,60)\n",
      "fit450.SetParLimits(1,1,50)\n",
      "fit450.SetParLimits(2,200,600)\n",
      "fit450.SetParLimits(3,1,150)\n",
      "fit450.SetParLimits(4,0,2)\n",
      "fit450.SetParLimits(5,-1,1)\n",
      "fit450.SetParLimits(6,0,2)\n",
      "fit450.SetParameters(13,66,400,25,0.25,0.1)\n",
      "#fit450.SetParameter(4,1)\n",
      "PFHT450_ratio.Fit(fit450)\n",
      "fit450.GetExpFormula(\"P\")"
     ],
     "language": "python",
     "metadata": {},
     "outputs": [
      {
       "metadata": {},
       "output_type": "pyout",
       "prompt_number": 9,
       "text": [
        "'-0.0172529+0.612077*0.25*(1.+erf((x-38.4238)/8.73089))*(1+erf((y-411.258)/91.1037))'"
       ]
      }
     ],
     "prompt_number": 9
    },
    {
     "cell_type": "code",
     "collapsed": false,
     "input": [
      "c1 = ROOT.TCanvas(\"c1\",\"\")\n",
      "PFHT450_ratio.SetMaximum(1.)\n",
      "PFHT450_ratio.SetMinimum(0.)\n",
      "PFHT450_ratio.Draw(\"COLZ\")\n",
      "c2 = ROOT.TCanvas(\"c2\",\"\")\n",
      "fit450.SetMaximum(1.)\n",
      "fit450.SetMinimum(0.)\n",
      "fit450.Draw(\"COLZ\")"
     ],
     "language": "python",
     "metadata": {},
     "outputs": [
      {
       "output_type": "stream",
       "stream": "stderr",
       "text": [
        "TCanvas::Constructor:0: RuntimeWarning: Deleting canvas with same name: c1\n"
       ]
      }
     ],
     "prompt_number": 10
    },
    {
     "cell_type": "code",
     "collapsed": false,
     "input": [
      "PFHT400.Sumw2()\n",
      "den.Sumw2()\n",
      "PFHT400_ratio = den.Clone(\"PFHT400\")\n",
      "PFHT400_ratio.Divide(PFHT400,den,1,1,\"cl=0.683 b(1,1) mode\")\n",
      "PFHT400_ratio.Draw(\"COLZ\")"
     ],
     "language": "python",
     "metadata": {},
     "outputs": [],
     "prompt_number": 11
    },
    {
     "cell_type": "code",
     "collapsed": false,
     "input": [
      "fit400 = fit450.Clone(\"fit400\")\n",
      "#fit400.SetParameters(30,3,350,30,1,1)\n",
      "PFHT400_ratio.Fit(fit400)\n",
      "fit400.GetExpFormula(\"P\")"
     ],
     "language": "python",
     "metadata": {},
     "outputs": [
      {
       "metadata": {},
       "output_type": "pyout",
       "prompt_number": 12,
       "text": [
        "'0.0872209+0.159117*0.25*(1.+erf((x-40.5738)/24.5485))*(1+erf((y-362.611)/9.22789))'"
       ]
      }
     ],
     "prompt_number": 12
    },
    {
     "cell_type": "code",
     "collapsed": false,
     "input": [
      "c1 = ROOT.TCanvas(\"c1\",\"\")\n",
      "PFHT400_ratio.SetMaximum(1.)\n",
      "PFHT400_ratio.SetMinimum(0.)\n",
      "PFHT400_ratio.Draw(\"COLZ\")\n",
      "c2 = ROOT.TCanvas(\"c2\",\"\")\n",
      "fit400.SetMaximum(1.)\n",
      "fit400.SetMinimum(0.)\n",
      "fit400.Draw(\"COLZ\")"
     ],
     "language": "python",
     "metadata": {},
     "outputs": [
      {
       "output_type": "stream",
       "stream": "stderr",
       "text": [
        "TCanvas::Constructor:0: RuntimeWarning: Deleting canvas with same name: c1\n",
        "TCanvas::Constructor:0: RuntimeWarning: Deleting canvas with same name: c2\n"
       ]
      }
     ],
     "prompt_number": 13
    },
    {
     "cell_type": "code",
     "collapsed": false,
     "input": [
      "def checkWeight(den,PFHT450,fit450):\n",
      "    den_PFHT450weight = den.Clone(\"den_PFHT450weight\")\n",
      "    den_PFHT450weight.Multiply(fit450)\n",
      "\n",
      "    max_ = max(den_PFHT450weight.GetMaximum(),PFHT450.GetMaximum())\n",
      "    min_ = min(den_PFHT450weight.GetMinimum(),PFHT450.GetMinimum())\n",
      "    min_ = -0.00001\n",
      "\n",
      "    const = ROOT.TF2(\"const\",\"0.01\", ymin, ymax, xmin, xmax)\n",
      "\n",
      "    den_PFHT450weight.Add(const)\n",
      "#    g1 = ROOT.TGraph2D(den_PFHT450weight)\n",
      "    g1 = den_PFHT450weight\n",
      "    g1.SetTitle(\"Reweighted\")\n",
      "    g1.SetMaximum(max_)\n",
      "    g1.SetMinimum(min_)\n",
      "\n",
      "    PFHT450.Add(const)\n",
      " #   g2 = ROOT.TGraph2D(PFHT450)\n",
      "    g2 = PFHT450\n",
      "    g2.SetTitle(\"Triggered\")\n",
      "    g2.SetMaximum(max_)\n",
      "    g2.SetMinimum(min_)\n",
      "    return copy.copy(g1),copy.copy(g2)\n"
     ],
     "language": "python",
     "metadata": {},
     "outputs": [],
     "prompt_number": 14
    },
    {
     "cell_type": "code",
     "collapsed": false,
     "input": [
      "def check1D(den,PFHT450,fit450):\n",
      "    den_PFHT450weight = den.Clone(\"den_PFHT450weight\")\n",
      "    den_PFHT450weight.Multiply(fit450)\n",
      "\n",
      "    max_ = max(den_PFHT450weight.GetMaximum(),PFHT450.GetMaximum())\n",
      "    min_ = min(den_PFHT450weight.GetMinimum(),PFHT450.GetMinimum())\n",
      "    min_ = -0.00001\n",
      "\n",
      "    const = ROOT.TF2(\"const\",\"0.01\", ymin, ymax, xmin, xmax)\n",
      "\n",
      "    denX =den.ProjectionX()\n",
      "    weightX = den_PFHT450weight.ProjectionX()\n",
      "    numX = PFHT450.ProjectionX()\n",
      "\n",
      "    denX.SetLineColor(ROOT.kBlack)\n",
      "    weightX.SetLineColor(ROOT.kRed)\n",
      "    numX.SetLineColor(ROOT.kBlue)\n",
      "\n",
      "    return denX,weightX,numX"
     ],
     "language": "python",
     "metadata": {},
     "outputs": [],
     "prompt_number": 15
    },
    {
     "cell_type": "code",
     "collapsed": false,
     "input": [
      "g1,g2,g3 = check1D(den,PFHT450,fit450)\n",
      "c5 = ROOT.TCanvas(\"c5\",\"\")\n",
      "g1.Draw(\"\")\n",
      "g2.Draw(\"same\")\n",
      "g3.Draw(\"same\")"
     ],
     "language": "python",
     "metadata": {},
     "outputs": [],
     "prompt_number": 16
    },
    {
     "cell_type": "code",
     "collapsed": false,
     "input": [
      "g1,g2 = checkWeight(den,PFHT400,fit400)\n",
      "c2 = ROOT.TCanvas(\"c2\",\"\")\n",
      "c2.Divide(2)\n",
      "c2.cd(1)\n",
      "g1.Draw(\"COLZ\")\n",
      "c2.cd(2)\n",
      "g2.Draw(\"COLZ\")"
     ],
     "language": "python",
     "metadata": {},
     "outputs": [
      {
       "output_type": "stream",
       "stream": "stderr",
       "text": [
        "TCanvas::Constructor:0: RuntimeWarning: Deleting canvas with same name: c2\n"
       ]
      }
     ],
     "prompt_number": 17
    },
    {
     "cell_type": "code",
     "collapsed": false,
     "input": [
      "c3 = ROOT.TCanvas(\"c3\",\"\")\n",
      "c3.Divide(2)\n",
      "c3.cd(1)\n",
      "PFHT450_ratio.Draw(\"COLZ\")\n",
      "c3.cd(2)\n",
      "fit450.Draw(\"COLZ\")"
     ],
     "language": "python",
     "metadata": {},
     "outputs": [],
     "prompt_number": 18
    },
    {
     "cell_type": "code",
     "collapsed": false,
     "input": [
      "c4 = ROOT.TCanvas(\"c4\",\"\")\n",
      "c4.Divide(2)\n",
      "c4.cd(1)\n",
      "PFHT400_ratio.Draw(\"COLZ\")\n",
      "c4.cd(2)\n",
      "fit400.Draw(\"COLZ\")"
     ],
     "language": "python",
     "metadata": {},
     "outputs": [],
     "prompt_number": 19
    },
    {
     "cell_type": "code",
     "collapsed": false,
     "input": [
      "g1,g2 = checkWeight(den,PFHT450,fit450)\n",
      "c6 = ROOT.TCanvas(\"c6\",\"\")\n",
      "c6.Divide(2)\n",
      "c6.cd(1)\n",
      "g1.Draw(\"COLZ\")\n",
      "c6.cd(2)\n",
      "g2.Draw(\"COLZ\")"
     ],
     "language": "python",
     "metadata": {},
     "outputs": [],
     "prompt_number": 20
    },
    {
     "cell_type": "code",
     "collapsed": false,
     "input": [
      "c1.cd()"
     ],
     "language": "python",
     "metadata": {},
     "outputs": [
      {
       "metadata": {},
       "output_type": "pyout",
       "prompt_number": 21,
       "text": [
        "<ROOT.TCanvas object (\"c1\") at 0x570c350>"
       ]
      }
     ],
     "prompt_number": 21
    },
    {
     "cell_type": "code",
     "collapsed": false,
     "input": [
      "g_den = ROOT.TGraph2D(den)\n",
      "g_den.Draw(\"COLZ\")"
     ],
     "language": "python",
     "metadata": {},
     "outputs": [],
     "prompt_number": 22
    },
    {
     "cell_type": "code",
     "collapsed": false,
     "input": [
      "den.Draw(\"COLZ\")"
     ],
     "language": "python",
     "metadata": {},
     "outputs": [],
     "prompt_number": 23
    },
    {
     "cell_type": "code",
     "collapsed": false,
     "input": [
      "f400 = fit400.GetExpFormula(\"P\")\n",
      "f450 = fit450.GetExpFormula(\"P\")\n",
      "f400 = str(f400).replace(\"--\",\"+\")\n",
      "f450 = str(f450).replace(\"--\",\"+\")\n",
      "f400 = str(f400).replace(\"+-\",\"-\")\n",
      "f450 = str(f450).replace(\"+-\",\"-\")\n",
      "f400 = str(f400).replace(\"-+\",\"-\")\n",
      "f450 = str(f450).replace(\"-+\",\"-\")\n",
      "f450 = f450.replace(\"x\",\"pt6\")\n",
      "f450 = f450.replace(\"y\",\"ht\")\n",
      "f400 = f400.replace(\"x\",\"pt6\")\n",
      "f400 = f400.replace(\"y\",\"ht\")\n"
     ],
     "language": "python",
     "metadata": {},
     "outputs": [],
     "prompt_number": 24
    },
    {
     "cell_type": "code",
     "collapsed": false,
     "input": [
      "f450"
     ],
     "language": "python",
     "metadata": {},
     "outputs": [
      {
       "metadata": {},
       "output_type": "pyout",
       "prompt_number": 25,
       "text": [
        "'-0.0172529+0.612077*0.25*(1.+erf((pt6-38.4238)/8.73089))*(1+erf((ht-411.258)/91.1037))'"
       ]
      }
     ],
     "prompt_number": 25
    },
    {
     "cell_type": "code",
     "collapsed": false,
     "input": [
      "print \"float trigger400(float ht, float pt6){\"\n",
      "print \"    float value = %s;\"%(f400)\n",
      "print \"    return between0and1(value);\"\n",
      "print \"}\"\n",
      "print \"\"\n",
      "print \"float trigger450(float ht, float pt6){\"\n",
      "print \"    float value = %s;\"%(f450)\n",
      "print \"    return between0and1(value);\"\n",
      "print \"}\""
     ],
     "language": "python",
     "metadata": {},
     "outputs": [
      {
       "output_type": "stream",
       "stream": "stdout",
       "text": [
        "float trigger400(float ht, float pt6){\n",
        "    float value = 0.0872209+0.159117*0.25*(1.+erf((pt6-40.5738)/24.5485))*(1+erf((ht-362.611)/9.22789));\n",
        "    return between0and1(value);\n",
        "}\n",
        "\n",
        "float trigger450(float ht, float pt6){\n",
        "    float value = -0.0172529+0.612077*0.25*(1.+erf((pt6-38.4238)/8.73089))*(1+erf((ht-411.258)/91.1037));\n",
        "    return between0and1(value);\n",
        "}\n"
       ]
      }
     ],
     "prompt_number": 26
    },
    {
     "cell_type": "code",
     "collapsed": false,
     "input": [],
     "language": "python",
     "metadata": {},
     "outputs": [],
     "prompt_number": 185
    },
    {
     "cell_type": "code",
     "collapsed": false,
     "input": [],
     "language": "python",
     "metadata": {},
     "outputs": [],
     "prompt_number": 185
    },
    {
     "cell_type": "code",
     "collapsed": false,
     "input": [
      "fit450.Draw(\"COLZ\")"
     ],
     "language": "python",
     "metadata": {},
     "outputs": [],
     "prompt_number": 377
    },
    {
     "cell_type": "code",
     "collapsed": false,
     "input": [
      "PFHT400.Draw(\"COLZ\")"
     ],
     "language": "python",
     "metadata": {},
     "outputs": [],
     "prompt_number": 378
    },
    {
     "cell_type": "code",
     "collapsed": false,
     "input": [
      "den.Draw(\"COLZ\")"
     ],
     "language": "python",
     "metadata": {},
     "outputs": [],
     "prompt_number": 379
    },
    {
     "cell_type": "code",
     "collapsed": false,
     "input": [
      "tree.Draw(\"Alt$(jets_pt[5],0) >> den1D(%s,%s,%s)\"%(ynb, ymin, ymax),\"%s\"%denTrigger,\"goff\")\n",
      "den1D = ROOT.gDirectory.Get(\"den1D\").Clone(\"den1D\")\n",
      "#den.Multiply(const)\n"
     ],
     "language": "python",
     "metadata": {},
     "outputs": [],
     "prompt_number": 380
    },
    {
     "cell_type": "code",
     "collapsed": false,
     "input": [
      "tree.Draw(\"Alt$(jets_pt[5],0) >> PFHT4001D(%s,%s,%s)\"%(ynb, ymin, ymax),\"%s&&HLT_BIT_HLT_PFHT400_SixJet30_v\"%denTrigger,\"goff\")\n",
      "PFHT4001D = ROOT.gDirectory.Get(\"PFHT4001D\").Clone(\"PFHT4001D\")\n"
     ],
     "language": "python",
     "metadata": {},
     "outputs": [],
     "prompt_number": 131
    },
    {
     "cell_type": "code",
     "collapsed": false,
     "input": [
      "ROOT.gROOT.LoadMacro(\"functions.C\")"
     ],
     "language": "python",
     "metadata": {},
     "outputs": [
      {
       "metadata": {},
       "output_type": "pyout",
       "prompt_number": 132,
       "text": [
        "0"
       ]
      }
     ],
     "prompt_number": 132
    },
    {
     "cell_type": "code",
     "collapsed": false,
     "input": [
      "tree.Draw(\"Alt$(jets_pt[5],0) >> PFHT4001Dw(%s,%s,%s)\"%(ynb, ymin, ymax),\"(%s)*trigger400(ht, Alt$(jets_pt[5],0))\"%denTrigger,\"goff\")\n",
      "PFHT4001Dw = ROOT.gDirectory.Get(\"PFHT4001Dw\").Clone(\"PFHT4001Dw\")"
     ],
     "language": "python",
     "metadata": {},
     "outputs": [],
     "prompt_number": 133
    },
    {
     "cell_type": "code",
     "collapsed": false,
     "input": [
      "den1D.Draw(\"\")\n",
      "PFHT4001D.Draw(\"same\")\n",
      "PFHT4001D_w.Draw(\"same\")\n"
     ],
     "language": "python",
     "metadata": {},
     "outputs": [
      {
       "ename": "NameError",
       "evalue": "name 'PFHT4001D_w' is not defined",
       "output_type": "pyerr",
       "traceback": [
        "\u001b[0;31m---------------------------------------------------------------------------\u001b[0m\n\u001b[0;31mNameError\u001b[0m                                 Traceback (most recent call last)",
        "\u001b[0;32m<ipython-input-134-b6acc2a7c826>\u001b[0m in \u001b[0;36m<module>\u001b[0;34m()\u001b[0m\n\u001b[1;32m      1\u001b[0m \u001b[0mden1D\u001b[0m\u001b[0;34m.\u001b[0m\u001b[0mDraw\u001b[0m\u001b[0;34m(\u001b[0m\u001b[0;34m\"\"\u001b[0m\u001b[0;34m)\u001b[0m\u001b[0;34m\u001b[0m\u001b[0m\n\u001b[1;32m      2\u001b[0m \u001b[0mPFHT4001D\u001b[0m\u001b[0;34m.\u001b[0m\u001b[0mDraw\u001b[0m\u001b[0;34m(\u001b[0m\u001b[0;34m\"same\"\u001b[0m\u001b[0;34m)\u001b[0m\u001b[0;34m\u001b[0m\u001b[0m\n\u001b[0;32m----> 3\u001b[0;31m \u001b[0mPFHT4001D_w\u001b[0m\u001b[0;34m.\u001b[0m\u001b[0mDraw\u001b[0m\u001b[0;34m(\u001b[0m\u001b[0;34m\"same\"\u001b[0m\u001b[0;34m)\u001b[0m\u001b[0;34m\u001b[0m\u001b[0m\n\u001b[0m",
        "\u001b[0;31mNameError\u001b[0m: name 'PFHT4001D_w' is not defined"
       ]
      }
     ],
     "prompt_number": 134
    },
    {
     "cell_type": "code",
     "collapsed": false,
     "input": [],
     "language": "python",
     "metadata": {},
     "outputs": []
    },
    {
     "cell_type": "code",
     "collapsed": false,
     "input": [],
     "language": "python",
     "metadata": {},
     "outputs": []
    },
    {
     "cell_type": "code",
     "collapsed": false,
     "input": [],
     "language": "python",
     "metadata": {},
     "outputs": []
    },
    {
     "cell_type": "code",
     "collapsed": false,
     "input": [],
     "language": "python",
     "metadata": {},
     "outputs": []
    },
    {
     "cell_type": "code",
     "collapsed": false,
     "input": [],
     "language": "python",
     "metadata": {},
     "outputs": []
    }
   ],
   "metadata": {}
  }
 ]
}